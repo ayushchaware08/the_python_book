{
 "cells": [
  {
   "cell_type": "markdown",
   "id": "5b0d0154",
   "metadata": {},
   "source": [
    "## 7. Dictionary\n",
    "Key value Pair\n",
    "\n",
    "i=It is mutable\n",
    "\n",
    "X = {\"key\" : \"Value\",\"key\" : \"Value\",\"key\" : \"Value\"}"
   ]
  },
  {
   "cell_type": "markdown",
   "id": "6f8f791b",
   "metadata": {},
   "source": [
    "#### Method 1 : from Scratch"
   ]
  },
  {
   "cell_type": "code",
   "execution_count": 47,
   "id": "c88e0556",
   "metadata": {},
   "outputs": [
    {
     "data": {
      "text/plain": [
       "{'Name': 'Ayush', 'age': 19, 'Salary': 1}"
      ]
     },
     "execution_count": 47,
     "metadata": {},
     "output_type": "execute_result"
    }
   ],
   "source": [
    "dic = {\"Name\":\"Ayush\", \"age\" : 19, \"Salary\":1}\n",
    "dic"
   ]
  },
  {
   "cell_type": "markdown",
   "id": "717a8126",
   "metadata": {},
   "source": [
    "#### Method 2 : Empty dictionary\n"
   ]
  },
  {
   "cell_type": "code",
   "execution_count": 15,
   "id": "63b387d7",
   "metadata": {},
   "outputs": [
    {
     "data": {
      "text/plain": [
       "{'name': 'Ayush', 'Position': 'Student', 'salary': 1}"
      ]
     },
     "execution_count": 15,
     "metadata": {},
     "output_type": "execute_result"
    }
   ],
   "source": [
    "dic= {}\n",
    "dic[\"name\"] = \"Ayush\"\n",
    "dic[\"Position\"] = \"Student\"\n",
    "dic[\"salary\"] = 1\n",
    "dic"
   ]
  },
  {
   "cell_type": "markdown",
   "id": "c05f4dbd",
   "metadata": {},
   "source": [
    "#### Method 3 : BuildIn function"
   ]
  },
  {
   "cell_type": "code",
   "execution_count": 52,
   "id": "d228eccc",
   "metadata": {},
   "outputs": [
    {
     "data": {
      "text/plain": [
       "{'name': 'Ayush', 'age': 19, 'salary': 1}"
      ]
     },
     "execution_count": 52,
     "metadata": {},
     "output_type": "execute_result"
    }
   ],
   "source": [
    "d = dict(name = \"Ayush\", age=19 , salary=1)\n",
    "d"
   ]
  },
  {
   "cell_type": "markdown",
   "id": "0f47164f",
   "metadata": {},
   "source": [
    "**Accessing Items**"
   ]
  },
  {
   "cell_type": "code",
   "execution_count": 53,
   "id": "6b889d30",
   "metadata": {},
   "outputs": [
    {
     "data": {
      "text/plain": [
       "dict_items([('name', 'Ayush'), ('age', 19), ('salary', 1)])"
      ]
     },
     "execution_count": 53,
     "metadata": {},
     "output_type": "execute_result"
    }
   ],
   "source": [
    "d.items()"
   ]
  },
  {
   "cell_type": "markdown",
   "id": "a7039213",
   "metadata": {},
   "source": [
    "**Accessing the key ele**"
   ]
  },
  {
   "cell_type": "code",
   "execution_count": 54,
   "id": "20b061d6",
   "metadata": {},
   "outputs": [
    {
     "data": {
      "text/plain": [
       "dict_keys(['name', 'age', 'salary'])"
      ]
     },
     "execution_count": 54,
     "metadata": {},
     "output_type": "execute_result"
    }
   ],
   "source": [
    "d.keys()"
   ]
  },
  {
   "cell_type": "markdown",
   "id": "ca2fdb0e",
   "metadata": {},
   "source": [
    "**Accessing the Value ele**"
   ]
  },
  {
   "cell_type": "code",
   "execution_count": 55,
   "id": "bf675fa9",
   "metadata": {},
   "outputs": [
    {
     "data": {
      "text/plain": [
       "dict_values(['Ayush', 19, 1])"
      ]
     },
     "execution_count": 55,
     "metadata": {},
     "output_type": "execute_result"
    }
   ],
   "source": [
    "d.values()"
   ]
  },
  {
   "cell_type": "markdown",
   "id": "2ba724df",
   "metadata": {},
   "source": [
    "if you want to access them like we would a list we can cast them as such and access the relevant index positions."
   ]
  },
  {
   "cell_type": "code",
   "execution_count": 56,
   "id": "4d2764e1",
   "metadata": {},
   "outputs": [
    {
     "data": {
      "text/plain": [
       "['Ayush', 19]"
      ]
     },
     "execution_count": 56,
     "metadata": {},
     "output_type": "execute_result"
    }
   ],
   "source": [
    "list(d.values())[:-1]"
   ]
  },
  {
   "cell_type": "code",
   "execution_count": 58,
   "id": "0727a626",
   "metadata": {},
   "outputs": [
    {
     "data": {
      "text/plain": [
       "('name', 'Ayush')"
      ]
     },
     "execution_count": 58,
     "metadata": {},
     "output_type": "execute_result"
    }
   ],
   "source": [
    "list(d.items())[0]"
   ]
  },
  {
   "cell_type": "code",
   "execution_count": 59,
   "id": "c9b2ce5a",
   "metadata": {},
   "outputs": [
    {
     "data": {
      "text/plain": [
       "'salary'"
      ]
     },
     "execution_count": 59,
     "metadata": {},
     "output_type": "execute_result"
    }
   ],
   "source": [
    "list(d.keys())[-1]"
   ]
  },
  {
   "cell_type": "markdown",
   "id": "57bbed90",
   "metadata": {},
   "source": [
    "#### Accessing the elements in Dict"
   ]
  },
  {
   "cell_type": "code",
   "execution_count": 21,
   "id": "19670216",
   "metadata": {},
   "outputs": [
    {
     "data": {
      "text/plain": [
       "'Ayush'"
      ]
     },
     "execution_count": 21,
     "metadata": {},
     "output_type": "execute_result"
    }
   ],
   "source": [
    "d['name']"
   ]
  },
  {
   "cell_type": "code",
   "execution_count": 22,
   "id": "90a7c1ce",
   "metadata": {
    "scrolled": true
   },
   "outputs": [
    {
     "data": {
      "text/plain": [
       "19"
      ]
     },
     "execution_count": 22,
     "metadata": {},
     "output_type": "execute_result"
    }
   ],
   "source": [
    "d['age']"
   ]
  },
  {
   "cell_type": "code",
   "execution_count": 48,
   "id": "ae02c2a7",
   "metadata": {},
   "outputs": [
    {
     "data": {
      "text/plain": [
       "19"
      ]
     },
     "execution_count": 48,
     "metadata": {},
     "output_type": "execute_result"
    }
   ],
   "source": [
    "d.get('age')"
   ]
  },
  {
   "cell_type": "code",
   "execution_count": 23,
   "id": "8d41630a",
   "metadata": {},
   "outputs": [
    {
     "ename": "KeyError",
     "evalue": "'position'",
     "output_type": "error",
     "traceback": [
      "\u001b[1;31m---------------------------------------------------------------------------\u001b[0m",
      "\u001b[1;31mKeyError\u001b[0m                                  Traceback (most recent call last)",
      "Cell \u001b[1;32mIn[23], line 1\u001b[0m\n\u001b[1;32m----> 1\u001b[0m d[\u001b[38;5;124m'\u001b[39m\u001b[38;5;124mposition\u001b[39m\u001b[38;5;124m'\u001b[39m]\n",
      "\u001b[1;31mKeyError\u001b[0m: 'position'"
     ]
    }
   ],
   "source": [
    "d['position'] # key not in dict"
   ]
  },
  {
   "cell_type": "markdown",
   "id": "c70e7b4b",
   "metadata": {},
   "source": [
    "**key not in dict but we want to solve the keyerror of the key ele**\n",
    "\n",
    "to overcome the error\n",
    "\n",
    "### Handling of Error"
   ]
  },
  {
   "cell_type": "code",
   "execution_count": 26,
   "id": "cc182b53",
   "metadata": {},
   "outputs": [],
   "source": [
    "# Exceptional Handeling\n",
    "try:\n",
    "    position = d['position']\n",
    "except:\n",
    "    position = None\n",
    "    \n",
    "position"
   ]
  },
  {
   "cell_type": "markdown",
   "id": "298ef46f",
   "metadata": {},
   "source": [
    "as we can observe before keyerror was 'position\" to over come this error we just make a function so that the program will run w/o error"
   ]
  },
  {
   "cell_type": "markdown",
   "id": "e7681180",
   "metadata": {},
   "source": [
    "### Functions"
   ]
  },
  {
   "cell_type": "code",
   "execution_count": 34,
   "id": "5d501ccd",
   "metadata": {},
   "outputs": [],
   "source": [
    "dic = {\"Name\":\"Ayush\", \"age\" : 19, \"Salary\":1}"
   ]
  },
  {
   "cell_type": "markdown",
   "id": "e09c5243",
   "metadata": {},
   "source": [
    "**Pop**"
   ]
  },
  {
   "cell_type": "code",
   "execution_count": 35,
   "id": "1ae6dd62",
   "metadata": {},
   "outputs": [],
   "source": [
    "#  Pop() : removes the specified key value pair\n",
    "dic.pop('age')\n",
    "\n",
    "# another way\n",
    "del dic[\"Name\"]"
   ]
  },
  {
   "cell_type": "markdown",
   "id": "622cc0e7",
   "metadata": {},
   "source": [
    "**popitem**"
   ]
  },
  {
   "cell_type": "code",
   "execution_count": 36,
   "id": "9e4baed4",
   "metadata": {},
   "outputs": [
    {
     "data": {
      "text/plain": [
       "('Salary', 1)"
      ]
     },
     "execution_count": 36,
     "metadata": {},
     "output_type": "execute_result"
    }
   ],
   "source": [
    "# popitem() : removes last key value pair\n",
    "dic.popitem()"
   ]
  },
  {
   "cell_type": "code",
   "execution_count": 39,
   "id": "c519bb20",
   "metadata": {},
   "outputs": [
    {
     "data": {
      "text/plain": [
       "{'name': 'Ayush'}"
      ]
     },
     "execution_count": 39,
     "metadata": {},
     "output_type": "execute_result"
    }
   ],
   "source": [
    "dic['name']=\"Ayush\"\n",
    "dic"
   ]
  },
  {
   "cell_type": "markdown",
   "id": "a60a079e",
   "metadata": {},
   "source": [
    "**Assign One Dict to other**"
   ]
  },
  {
   "cell_type": "code",
   "execution_count": null,
   "id": "c5c91286",
   "metadata": {},
   "outputs": [],
   "source": [
    "dic = dic2"
   ]
  },
  {
   "cell_type": "markdown",
   "id": "2127bce5",
   "metadata": {},
   "source": [
    "**Copy the dict**"
   ]
  },
  {
   "cell_type": "code",
   "execution_count": 41,
   "id": "a694a923",
   "metadata": {},
   "outputs": [
    {
     "data": {
      "text/plain": [
       "{'name': 'Ayush'}"
      ]
     },
     "execution_count": 41,
     "metadata": {},
     "output_type": "execute_result"
    }
   ],
   "source": [
    "dic2 =dic.copy()\n",
    "dic2"
   ]
  },
  {
   "cell_type": "markdown",
   "id": "cba5be38",
   "metadata": {},
   "source": [
    "**to clear all dict**"
   ]
  },
  {
   "cell_type": "code",
   "execution_count": 42,
   "id": "406d18bb",
   "metadata": {},
   "outputs": [
    {
     "data": {
      "text/plain": [
       "{}"
      ]
     },
     "execution_count": 42,
     "metadata": {},
     "output_type": "execute_result"
    }
   ],
   "source": [
    "dic.clear()\n",
    "dic"
   ]
  },
  {
   "cell_type": "markdown",
   "id": "7a8a53dd",
   "metadata": {},
   "source": [
    "**i.e Multiple Keys with same Value  = formkeys()** \n",
    "\n",
    "Multiple Empolyee with same Salary\n",
    "\n",
    "Gender is Male or Female\n",
    "\n"
   ]
  },
  {
   "cell_type": "code",
   "execution_count": 43,
   "id": "d00bb258",
   "metadata": {},
   "outputs": [
    {
     "data": {
      "text/plain": [
       "{'key1': 5, 'key2': 5, 'key3': 5}"
      ]
     },
     "execution_count": 43,
     "metadata": {},
     "output_type": "execute_result"
    }
   ],
   "source": [
    "x = ('key1','key2','key3')\n",
    "y = 5\n",
    "z = dic.fromkeys(x,y)\n",
    "z"
   ]
  }
 ],
 "metadata": {
  "kernelspec": {
   "display_name": "Python 3 (ipykernel)",
   "language": "python",
   "name": "python3"
  },
  "language_info": {
   "codemirror_mode": {
    "name": "ipython",
    "version": 3
   },
   "file_extension": ".py",
   "mimetype": "text/x-python",
   "name": "python",
   "nbconvert_exporter": "python",
   "pygments_lexer": "ipython3",
   "version": "3.11.4"
  }
 },
 "nbformat": 4,
 "nbformat_minor": 5
}
