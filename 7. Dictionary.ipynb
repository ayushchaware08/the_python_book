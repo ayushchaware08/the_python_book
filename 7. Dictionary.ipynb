{
 "cells": [
  {
   "cell_type": "markdown",
   "id": "5b0d0154",
   "metadata": {},
   "source": [
    "## 7. Dictionary\n",
    "\n",
    "### {'Key'='value',....}\n",
    "Key value Pair\n",
    "\n",
    "i=It is mutable\n",
    "\n",
    "X = {\"key\" : \"Value\",\"key\" : \"Value\",\"key\" : \"Value\"}"
   ]
  },
  {
   "cell_type": "markdown",
   "id": "6f8f791b",
   "metadata": {},
   "source": [
    "#### Method 1 : from Scratch"
   ]
  },
  {
   "cell_type": "code",
   "execution_count": 1,
   "id": "c88e0556",
   "metadata": {},
   "outputs": [
    {
     "data": {
      "text/plain": [
       "{'Name': 'Ayush', 'age': 19, 'Salary': 1}"
      ]
     },
     "execution_count": 1,
     "metadata": {},
     "output_type": "execute_result"
    }
   ],
   "source": [
    "dic = {\"Name\":\"Ayush\", \"age\" : 19, \"Salary\":1}\n",
    "dic"
   ]
  },
  {
   "cell_type": "markdown",
   "id": "717a8126",
   "metadata": {},
   "source": [
    "#### Method 2 : Empty dictionary\n"
   ]
  },
  {
   "cell_type": "code",
   "execution_count": 2,
   "id": "63b387d7",
   "metadata": {},
   "outputs": [
    {
     "data": {
      "text/plain": [
       "{'name': 'Ayush', 'Position': 'Student', 'salary': 1}"
      ]
     },
     "execution_count": 2,
     "metadata": {},
     "output_type": "execute_result"
    }
   ],
   "source": [
    "dic= {}\n",
    "dic[\"name\"] = \"Ayush\"\n",
    "dic[\"Position\"] = \"Student\"\n",
    "dic[\"salary\"] = 1\n",
    "dic"
   ]
  },
  {
   "cell_type": "markdown",
   "id": "c05f4dbd",
   "metadata": {},
   "source": [
    "#### Method 3 : BuildIn function"
   ]
  },
  {
   "cell_type": "code",
   "execution_count": 3,
   "id": "d228eccc",
   "metadata": {},
   "outputs": [
    {
     "data": {
      "text/plain": [
       "{'name': 'Ayush', 'age': 19, 'salary': 1}"
      ]
     },
     "execution_count": 3,
     "metadata": {},
     "output_type": "execute_result"
    }
   ],
   "source": [
    "d = dict(name = \"Ayush\", age=19 , salary=1)\n",
    "d"
   ]
  },
  {
   "cell_type": "markdown",
   "id": "0f47164f",
   "metadata": {},
   "source": [
    "**Accessing Items**"
   ]
  },
  {
   "cell_type": "code",
   "execution_count": 4,
   "id": "6b889d30",
   "metadata": {},
   "outputs": [
    {
     "data": {
      "text/plain": [
       "dict_items([('name', 'Ayush'), ('age', 19), ('salary', 1)])"
      ]
     },
     "execution_count": 4,
     "metadata": {},
     "output_type": "execute_result"
    }
   ],
   "source": [
    "d.items()"
   ]
  },
  {
   "cell_type": "markdown",
   "id": "a7039213",
   "metadata": {},
   "source": [
    "**Accessing the key ele**"
   ]
  },
  {
   "cell_type": "code",
   "execution_count": 5,
   "id": "20b061d6",
   "metadata": {},
   "outputs": [
    {
     "data": {
      "text/plain": [
       "dict_keys(['name', 'age', 'salary'])"
      ]
     },
     "execution_count": 5,
     "metadata": {},
     "output_type": "execute_result"
    }
   ],
   "source": [
    "d.keys()"
   ]
  },
  {
   "cell_type": "markdown",
   "id": "ca2fdb0e",
   "metadata": {},
   "source": [
    "**Accessing the Value ele**"
   ]
  },
  {
   "cell_type": "code",
   "execution_count": 6,
   "id": "bf675fa9",
   "metadata": {},
   "outputs": [
    {
     "data": {
      "text/plain": [
       "dict_values(['Ayush', 19, 1])"
      ]
     },
     "execution_count": 6,
     "metadata": {},
     "output_type": "execute_result"
    }
   ],
   "source": [
    "d.values()"
   ]
  },
  {
   "cell_type": "markdown",
   "id": "2ba724df",
   "metadata": {},
   "source": [
    "if you want to access them like we would a list we can cast them as such and access the relevant index positions."
   ]
  },
  {
   "cell_type": "code",
   "execution_count": 7,
   "id": "4d2764e1",
   "metadata": {},
   "outputs": [
    {
     "data": {
      "text/plain": [
       "['Ayush', 19]"
      ]
     },
     "execution_count": 7,
     "metadata": {},
     "output_type": "execute_result"
    }
   ],
   "source": [
    "list(d.values())[:-1]"
   ]
  },
  {
   "cell_type": "code",
   "execution_count": 8,
   "id": "0727a626",
   "metadata": {},
   "outputs": [
    {
     "data": {
      "text/plain": [
       "('name', 'Ayush')"
      ]
     },
     "execution_count": 8,
     "metadata": {},
     "output_type": "execute_result"
    }
   ],
   "source": [
    "list(d.items())[0]"
   ]
  },
  {
   "cell_type": "code",
   "execution_count": 9,
   "id": "c9b2ce5a",
   "metadata": {},
   "outputs": [
    {
     "data": {
      "text/plain": [
       "'salary'"
      ]
     },
     "execution_count": 9,
     "metadata": {},
     "output_type": "execute_result"
    }
   ],
   "source": [
    "list(d.keys())[-1]"
   ]
  },
  {
   "cell_type": "markdown",
   "id": "57bbed90",
   "metadata": {},
   "source": [
    "#### Accessing the elements in Dict"
   ]
  },
  {
   "cell_type": "code",
   "execution_count": 10,
   "id": "19670216",
   "metadata": {},
   "outputs": [
    {
     "data": {
      "text/plain": [
       "'Ayush'"
      ]
     },
     "execution_count": 10,
     "metadata": {},
     "output_type": "execute_result"
    }
   ],
   "source": [
    "d['name']"
   ]
  },
  {
   "cell_type": "code",
   "execution_count": 11,
   "id": "90a7c1ce",
   "metadata": {
    "scrolled": true
   },
   "outputs": [
    {
     "data": {
      "text/plain": [
       "19"
      ]
     },
     "execution_count": 11,
     "metadata": {},
     "output_type": "execute_result"
    }
   ],
   "source": [
    "d['age']"
   ]
  },
  {
   "cell_type": "code",
   "execution_count": 12,
   "id": "ae02c2a7",
   "metadata": {},
   "outputs": [
    {
     "data": {
      "text/plain": [
       "19"
      ]
     },
     "execution_count": 12,
     "metadata": {},
     "output_type": "execute_result"
    }
   ],
   "source": [
    "d.get('age')"
   ]
  },
  {
   "cell_type": "code",
   "execution_count": 13,
   "id": "8d41630a",
   "metadata": {},
   "outputs": [
    {
     "ename": "KeyError",
     "evalue": "'position'",
     "output_type": "error",
     "traceback": [
      "\u001b[1;31m---------------------------------------------------------------------------\u001b[0m",
      "\u001b[1;31mKeyError\u001b[0m                                  Traceback (most recent call last)",
      "Cell \u001b[1;32mIn[13], line 1\u001b[0m\n\u001b[1;32m----> 1\u001b[0m d[\u001b[38;5;124m'\u001b[39m\u001b[38;5;124mposition\u001b[39m\u001b[38;5;124m'\u001b[39m]\n",
      "\u001b[1;31mKeyError\u001b[0m: 'position'"
     ]
    }
   ],
   "source": [
    "d['position'] # key not in dict"
   ]
  },
  {
   "cell_type": "markdown",
   "id": "c70e7b4b",
   "metadata": {},
   "source": [
    "**key not in dict but we want to solve the keyerror of the key ele**\n",
    "\n",
    "to overcome the error\n",
    "\n",
    "### Handling of Error"
   ]
  },
  {
   "cell_type": "code",
   "execution_count": 14,
   "id": "cc182b53",
   "metadata": {},
   "outputs": [],
   "source": [
    "# Exceptional Handeling\n",
    "try:\n",
    "    position = d['position']\n",
    "except:\n",
    "    position = None\n",
    "    \n",
    "position"
   ]
  },
  {
   "cell_type": "markdown",
   "id": "298ef46f",
   "metadata": {},
   "source": [
    "as we can observe before keyerror was 'position\" to over come this error we just make a function so that the program will run w/o error"
   ]
  },
  {
   "cell_type": "markdown",
   "id": "e7681180",
   "metadata": {},
   "source": [
    "### Functions"
   ]
  },
  {
   "cell_type": "code",
   "execution_count": 17,
   "id": "5d501ccd",
   "metadata": {},
   "outputs": [
    {
     "data": {
      "text/plain": [
       "{'Name': 'Ayush', 'age': 19, 'Salary': 1}"
      ]
     },
     "execution_count": 17,
     "metadata": {},
     "output_type": "execute_result"
    }
   ],
   "source": [
    "dic = {\"Name\":\"Ayush\", \"age\" : 19, \"Salary\":1}\n",
    "dic"
   ]
  },
  {
   "cell_type": "markdown",
   "id": "e09c5243",
   "metadata": {},
   "source": [
    "**Pop**"
   ]
  },
  {
   "cell_type": "code",
   "execution_count": 18,
   "id": "1ae6dd62",
   "metadata": {},
   "outputs": [
    {
     "data": {
      "text/plain": [
       "{'Salary': 1}"
      ]
     },
     "execution_count": 18,
     "metadata": {},
     "output_type": "execute_result"
    }
   ],
   "source": [
    "#  Pop() : removes the specified key value pair\n",
    "dic.pop('age')\n",
    "\n",
    "# another way\n",
    "del dic[\"Name\"]\n",
    "\n",
    "dic"
   ]
  },
  {
   "cell_type": "markdown",
   "id": "622cc0e7",
   "metadata": {},
   "source": [
    "**popitem**"
   ]
  },
  {
   "cell_type": "code",
   "execution_count": null,
   "id": "9e4baed4",
   "metadata": {},
   "outputs": [],
   "source": [
    "# popitem() : removes last key value pair\n",
    "dic.popitem()"
   ]
  },
  {
   "cell_type": "code",
   "execution_count": null,
   "id": "c519bb20",
   "metadata": {},
   "outputs": [],
   "source": [
    "dic['name']=\"Ayush\"\n",
    "dic"
   ]
  },
  {
   "cell_type": "markdown",
   "id": "a60a079e",
   "metadata": {},
   "source": [
    "**Assign One Dict to other**"
   ]
  },
  {
   "cell_type": "code",
   "execution_count": null,
   "id": "c5c91286",
   "metadata": {},
   "outputs": [],
   "source": [
    "dic = dic2"
   ]
  },
  {
   "cell_type": "markdown",
   "id": "2127bce5",
   "metadata": {},
   "source": [
    "**Copy the dict**"
   ]
  },
  {
   "cell_type": "code",
   "execution_count": null,
   "id": "a694a923",
   "metadata": {},
   "outputs": [],
   "source": [
    "dic2 =dic.copy()\n",
    "dic2"
   ]
  },
  {
   "cell_type": "markdown",
   "id": "cba5be38",
   "metadata": {},
   "source": [
    "**to clear all dict**"
   ]
  },
  {
   "cell_type": "code",
   "execution_count": null,
   "id": "406d18bb",
   "metadata": {},
   "outputs": [],
   "source": [
    "dic.clear()\n",
    "dic"
   ]
  },
  {
   "cell_type": "markdown",
   "id": "7a8a53dd",
   "metadata": {},
   "source": [
    "**i.e Multiple Keys with same Value  = formkeys()** \n",
    "\n",
    "Multiple Empolyee with same Salary\n",
    "\n",
    "Gender is Male or Female\n",
    "\n"
   ]
  },
  {
   "cell_type": "code",
   "execution_count": null,
   "id": "d00bb258",
   "metadata": {},
   "outputs": [],
   "source": [
    "x = ('key1','key2','key3')\n",
    "y = 5\n",
    "z = dic.fromkeys(x,y)\n",
    "z"
   ]
  }
 ],
 "metadata": {
  "kernelspec": {
   "display_name": "Python 3 (ipykernel)",
   "language": "python",
   "name": "python3"
  },
  "language_info": {
   "codemirror_mode": {
    "name": "ipython",
    "version": 3
   },
   "file_extension": ".py",
   "mimetype": "text/x-python",
   "name": "python",
   "nbconvert_exporter": "python",
   "pygments_lexer": "ipython3",
   "version": "3.11.4"
  }
 },
 "nbformat": 4,
 "nbformat_minor": 5
}
