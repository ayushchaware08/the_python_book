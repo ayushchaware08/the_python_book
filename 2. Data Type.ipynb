{
 "cells": [
  {
   "cell_type": "markdown",
   "id": "a8b1860c",
   "metadata": {},
   "source": [
    "## Data Types"
   ]
  },
  {
   "cell_type": "markdown",
   "id": "cff773bc",
   "metadata": {},
   "source": [
    "### 1.  Integer"
   ]
  },
  {
   "cell_type": "code",
   "execution_count": 4,
   "id": "9db823e4",
   "metadata": {},
   "outputs": [
    {
     "data": {
      "text/plain": [
       "1"
      ]
     },
     "execution_count": 4,
     "metadata": {},
     "output_type": "execute_result"
    }
   ],
   "source": [
    "1"
   ]
  },
  {
   "cell_type": "markdown",
   "id": "0c98c574",
   "metadata": {},
   "source": [
    "### 2. Float"
   ]
  },
  {
   "cell_type": "code",
   "execution_count": 5,
   "id": "fe66506d",
   "metadata": {},
   "outputs": [
    {
     "data": {
      "text/plain": [
       "1.0"
      ]
     },
     "execution_count": 5,
     "metadata": {},
     "output_type": "execute_result"
    }
   ],
   "source": [
    "1.0\n"
   ]
  },
  {
   "cell_type": "code",
   "execution_count": 6,
   "id": "5b01c1f2",
   "metadata": {},
   "outputs": [
    {
     "data": {
      "text/plain": [
       "2.5"
      ]
     },
     "execution_count": 6,
     "metadata": {},
     "output_type": "execute_result"
    }
   ],
   "source": [
    "2.5"
   ]
  },
  {
   "cell_type": "markdown",
   "id": "7ce05c1e",
   "metadata": {},
   "source": [
    "### 3. String \n",
    "Can be either in '.' \".\"\n"
   ]
  },
  {
   "cell_type": "code",
   "execution_count": 7,
   "id": "73d66d03",
   "metadata": {},
   "outputs": [
    {
     "data": {
      "text/plain": [
       "'2.4'"
      ]
     },
     "execution_count": 7,
     "metadata": {},
     "output_type": "execute_result"
    }
   ],
   "source": [
    "\"2.4\""
   ]
  },
  {
   "cell_type": "markdown",
   "id": "91d236f0",
   "metadata": {},
   "source": [
    "Check the type of variable by type()"
   ]
  },
  {
   "cell_type": "markdown",
   "id": "5b1668ba",
   "metadata": {},
   "source": [
    "### 4. Complex number\n",
    "a + bi"
   ]
  },
  {
   "cell_type": "code",
   "execution_count": 8,
   "id": "9116cb3f",
   "metadata": {},
   "outputs": [
    {
     "data": {
      "text/plain": [
       "(3+5j)"
      ]
     },
     "execution_count": 8,
     "metadata": {},
     "output_type": "execute_result"
    }
   ],
   "source": [
    "y = 3 +  5j\n",
    "y"
   ]
  },
  {
   "cell_type": "code",
   "execution_count": 9,
   "id": "df35787c",
   "metadata": {},
   "outputs": [
    {
     "data": {
      "text/plain": [
       "5j"
      ]
     },
     "execution_count": 9,
     "metadata": {},
     "output_type": "execute_result"
    }
   ],
   "source": [
    "x = 5j\n",
    "x"
   ]
  },
  {
   "cell_type": "code",
   "execution_count": 10,
   "id": "dd2cb427",
   "metadata": {},
   "outputs": [
    {
     "data": {
      "text/plain": [
       "3.0"
      ]
     },
     "execution_count": 10,
     "metadata": {},
     "output_type": "execute_result"
    }
   ],
   "source": [
    "# to access the imaginary and real part\n",
    "y.real"
   ]
  },
  {
   "cell_type": "code",
   "execution_count": 11,
   "id": "46cd974b",
   "metadata": {},
   "outputs": [
    {
     "data": {
      "text/plain": [
       "5.0"
      ]
     },
     "execution_count": 11,
     "metadata": {},
     "output_type": "execute_result"
    }
   ],
   "source": [
    "y.imag"
   ]
  },
  {
   "cell_type": "code",
   "execution_count": 12,
   "id": "6c9c2a9e",
   "metadata": {},
   "outputs": [
    {
     "data": {
      "text/plain": [
       "(3+4j)"
      ]
     },
     "execution_count": 12,
     "metadata": {},
     "output_type": "execute_result"
    }
   ],
   "source": [
    "# can also use build-In function\n",
    "a = 3\n",
    "b = 4\n",
    "c = complex(a,b)\n",
    "c"
   ]
  },
  {
   "cell_type": "code",
   "execution_count": 13,
   "id": "a0df120c",
   "metadata": {},
   "outputs": [
    {
     "name": "stdout",
     "output_type": "stream",
     "text": [
      "(6+8j)\n",
      "(1.5+2j)\n",
      "(-7+4j)\n"
     ]
    }
   ],
   "source": [
    "# add sub mul div\n",
    "print(c * 2)\n",
    "print(c / 2)\n",
    "print(c - 10)"
   ]
  },
  {
   "cell_type": "markdown",
   "id": "4d5cc884",
   "metadata": {},
   "source": [
    "add/Sub updates the real part only but Mul/Div updates the real as well as Imag part\n"
   ]
  },
  {
   "cell_type": "markdown",
   "id": "89196f5d",
   "metadata": {},
   "source": [
    "### 4. Boolen Values\n",
    "True or False ( 0 or 1 )"
   ]
  },
  {
   "cell_type": "code",
   "execution_count": 14,
   "id": "0d4a89a2",
   "metadata": {},
   "outputs": [
    {
     "data": {
      "text/plain": [
       "True"
      ]
     },
     "execution_count": 14,
     "metadata": {},
     "output_type": "execute_result"
    }
   ],
   "source": [
    "x = True\n",
    "y = False\n",
    "x"
   ]
  },
  {
   "cell_type": "code",
   "execution_count": 15,
   "id": "05d1ff3c",
   "metadata": {},
   "outputs": [
    {
     "data": {
      "text/plain": [
       "True"
      ]
     },
     "execution_count": 15,
     "metadata": {},
     "output_type": "execute_result"
    }
   ],
   "source": [
    "y = bool(0.0)\n",
    "# y\n",
    "z = bool(-10)\n",
    "z"
   ]
  },
  {
   "cell_type": "markdown",
   "id": "7081c5dd",
   "metadata": {},
   "source": [
    "< 0 > -> True\n",
    "\n",
    "0 -> False\n",
    "\n",
    "\n",
    "treats any value as 0 or 0.0 as False and any other value to be True\n",
    "\n",
    "**Operations**"
   ]
  },
  {
   "cell_type": "code",
   "execution_count": 16,
   "id": "714e238c",
   "metadata": {},
   "outputs": [],
   "source": [
    "x = True # 1\n",
    "y = False # 0\n",
    "# try T T, T F , F F"
   ]
  },
  {
   "cell_type": "code",
   "execution_count": 17,
   "id": "895559b0",
   "metadata": {},
   "outputs": [
    {
     "data": {
      "text/plain": [
       "1"
      ]
     },
     "execution_count": 17,
     "metadata": {},
     "output_type": "execute_result"
    }
   ],
   "source": [
    "x + y # 1+0"
   ]
  },
  {
   "cell_type": "code",
   "execution_count": 18,
   "id": "a525053f",
   "metadata": {
    "scrolled": true
   },
   "outputs": [
    {
     "data": {
      "text/plain": [
       "1"
      ]
     },
     "execution_count": 18,
     "metadata": {},
     "output_type": "execute_result"
    }
   ],
   "source": [
    "x-y # 1-0"
   ]
  },
  {
   "cell_type": "code",
   "execution_count": 19,
   "id": "e0d638c3",
   "metadata": {},
   "outputs": [
    {
     "data": {
      "text/plain": [
       "0"
      ]
     },
     "execution_count": 19,
     "metadata": {},
     "output_type": "execute_result"
    }
   ],
   "source": [
    "x * y # 1*0"
   ]
  },
  {
   "cell_type": "code",
   "execution_count": 20,
   "id": "e59c0a31",
   "metadata": {},
   "outputs": [
    {
     "ename": "ZeroDivisionError",
     "evalue": "division by zero",
     "output_type": "error",
     "traceback": [
      "\u001b[1;31m---------------------------------------------------------------------------\u001b[0m",
      "\u001b[1;31mZeroDivisionError\u001b[0m                         Traceback (most recent call last)",
      "Cell \u001b[1;32mIn[20], line 1\u001b[0m\n\u001b[1;32m----> 1\u001b[0m x \u001b[38;5;241m/\u001b[39m y\n",
      "\u001b[1;31mZeroDivisionError\u001b[0m: division by zero"
     ]
    }
   ],
   "source": [
    "x / y  #1/0"
   ]
  },
  {
   "cell_type": "markdown",
   "id": "803cf048",
   "metadata": {},
   "source": [
    "**Byte Literal, Byte Array, Memory view**"
   ]
  },
  {
   "cell_type": "code",
   "execution_count": null,
   "id": "d6fd515e",
   "metadata": {
    "scrolled": true
   },
   "outputs": [],
   "source": [
    "x = b\"My Name is Ayush\"\n",
    "x"
   ]
  },
  {
   "cell_type": "code",
   "execution_count": null,
   "id": "8197b29d",
   "metadata": {},
   "outputs": [],
   "source": [
    "bytearray(6)"
   ]
  },
  {
   "cell_type": "code",
   "execution_count": null,
   "id": "ab9afa48",
   "metadata": {},
   "outputs": [],
   "source": []
  },
  {
   "cell_type": "code",
   "execution_count": null,
   "id": "adbca027",
   "metadata": {},
   "outputs": [],
   "source": [
    "memoryview(bytes(5))"
   ]
  },
  {
   "cell_type": "markdown",
   "id": "0f4ee4c4",
   "metadata": {},
   "source": [
    "we can Concatinate byte string"
   ]
  },
  {
   "cell_type": "code",
   "execution_count": null,
   "id": "8fdc787c",
   "metadata": {},
   "outputs": [],
   "source": [
    "x = b\"My Name is Ayush.\"\n",
    "y = b\"Currentlly in my 2nd year\"\n",
    "x + y"
   ]
  },
  {
   "cell_type": "markdown",
   "id": "75c9a642",
   "metadata": {},
   "source": [
    "### ( + ) Operator\n",
    "Int/Float and Int/Float ✅\n",
    "Str and Str ✅\n",
    "Str and Int/float ❎\n",
    "\n"
   ]
  },
  {
   "cell_type": "code",
   "execution_count": null,
   "id": "aa772d49",
   "metadata": {},
   "outputs": [],
   "source": [
    "x = 12\n",
    "y = 4.1\n",
    "z = x + y\n",
    "z"
   ]
  },
  {
   "cell_type": "code",
   "execution_count": null,
   "id": "e96d62c1",
   "metadata": {},
   "outputs": [],
   "source": [
    "# fstring\n",
    "name = 'ayush'\n",
    "print(f\"My name is {name}\")"
   ]
  },
  {
   "cell_type": "markdown",
   "id": "3cd465fa",
   "metadata": {},
   "source": [
    "**Concatination** Powerfull Tool to deal with Stringss"
   ]
  },
  {
   "cell_type": "code",
   "execution_count": null,
   "id": "b7b376ff",
   "metadata": {},
   "outputs": [],
   "source": [
    "# Concatinating Str with String \n",
    "x = \"10\"\n",
    "y = \"16.0\"\n",
    "z = x + y\n",
    "print(z) # joins the two string\n",
    "type(z)"
   ]
  },
  {
   "cell_type": "code",
   "execution_count": null,
   "id": "a6103c8d",
   "metadata": {},
   "outputs": [],
   "source": [
    "# cocatinating Str with Int\n",
    "x = \"10\"  # string\n",
    "y = 16    # Int\n",
    "z = x + y\n",
    "z"
   ]
  },
  {
   "cell_type": "markdown",
   "id": "95ad787d",
   "metadata": {},
   "source": [
    "Giving the error i.e fails concatination with str & Int\n",
    "\n",
    "In Python you cannot mix a string and integer or string and float"
   ]
  },
  {
   "cell_type": "markdown",
   "id": "5862bcb4",
   "metadata": {},
   "source": [
    "### ( - ) Operator\n",
    "Int/Float and Int/Float ✅\n",
    "Str and Str/Int/float ❎\n",
    "\n"
   ]
  },
  {
   "cell_type": "code",
   "execution_count": null,
   "id": "5a8f00d8",
   "metadata": {},
   "outputs": [],
   "source": [
    "x = '5'\n",
    "y = '6'\n",
    "x - y"
   ]
  },
  {
   "cell_type": "markdown",
   "id": "062e1df4",
   "metadata": {},
   "source": [
    "**NOTE** : same for * and / i.e to deal with string we can only use + k/as Concatination"
   ]
  },
  {
   "cell_type": "markdown",
   "id": "949073fd",
   "metadata": {},
   "source": [
    "### ( * ) Operator\n",
    "Int/Float and Int/Float ✅\n",
    "Str and Str/Int/float ❎"
   ]
  },
  {
   "cell_type": "code",
   "execution_count": null,
   "id": "f79b2ca2",
   "metadata": {},
   "outputs": [],
   "source": [
    "x = 10\n",
    "y = \"34.5\"\n",
    "x * y # prints the y 10 times (str print int times)"
   ]
  },
  {
   "cell_type": "code",
   "execution_count": null,
   "id": "6a0877ba",
   "metadata": {},
   "outputs": [],
   "source": [
    "x = \"10\"\n",
    "y = 5\n",
    "x * y"
   ]
  },
  {
   "cell_type": "markdown",
   "id": "f4aaa077",
   "metadata": {},
   "source": [
    "### ( / ) Operator\n",
    "Int/Float and Int/Float ✅"
   ]
  },
  {
   "cell_type": "code",
   "execution_count": null,
   "id": "a621703f",
   "metadata": {},
   "outputs": [],
   "source": [
    "x = 45\n",
    "y = 43.3\n",
    "x/y"
   ]
  }
 ],
 "metadata": {
  "kernelspec": {
   "display_name": "Python 3 (ipykernel)",
   "language": "python",
   "name": "python3"
  },
  "language_info": {
   "codemirror_mode": {
    "name": "ipython",
    "version": 3
   },
   "file_extension": ".py",
   "mimetype": "text/x-python",
   "name": "python",
   "nbconvert_exporter": "python",
   "pygments_lexer": "ipython3",
   "version": "3.11.4"
  }
 },
 "nbformat": 4,
 "nbformat_minor": 5
}
