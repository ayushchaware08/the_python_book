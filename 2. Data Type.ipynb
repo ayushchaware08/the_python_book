{
 "cells": [
  {
   "cell_type": "markdown",
   "id": "a8b1860c",
   "metadata": {},
   "source": [
    "## Data Types"
   ]
  },
  {
   "cell_type": "markdown",
   "id": "cff773bc",
   "metadata": {},
   "source": [
    "### 1.  Integer"
   ]
  },
  {
   "cell_type": "code",
   "execution_count": 1,
   "id": "9db823e4",
   "metadata": {},
   "outputs": [
    {
     "data": {
      "text/plain": [
       "1"
      ]
     },
     "execution_count": 1,
     "metadata": {},
     "output_type": "execute_result"
    }
   ],
   "source": [
    "1"
   ]
  },
  {
   "cell_type": "markdown",
   "id": "0c98c574",
   "metadata": {},
   "source": [
    "### 2. Float"
   ]
  },
  {
   "cell_type": "code",
   "execution_count": 2,
   "id": "fe66506d",
   "metadata": {},
   "outputs": [
    {
     "data": {
      "text/plain": [
       "1.0"
      ]
     },
     "execution_count": 2,
     "metadata": {},
     "output_type": "execute_result"
    }
   ],
   "source": [
    "1.0\n"
   ]
  },
  {
   "cell_type": "code",
   "execution_count": 3,
   "id": "5b01c1f2",
   "metadata": {},
   "outputs": [
    {
     "data": {
      "text/plain": [
       "2.5"
      ]
     },
     "execution_count": 3,
     "metadata": {},
     "output_type": "execute_result"
    }
   ],
   "source": [
    "2.5"
   ]
  },
  {
   "cell_type": "markdown",
   "id": "7ce05c1e",
   "metadata": {},
   "source": [
    "### 3. String \n",
    "Can be either in '.' \".\"\n"
   ]
  },
  {
   "cell_type": "code",
   "execution_count": 4,
   "id": "73d66d03",
   "metadata": {},
   "outputs": [
    {
     "data": {
      "text/plain": [
       "'2.4'"
      ]
     },
     "execution_count": 4,
     "metadata": {},
     "output_type": "execute_result"
    }
   ],
   "source": [
    "\"2.4\""
   ]
  },
  {
   "cell_type": "markdown",
   "id": "91d236f0",
   "metadata": {},
   "source": [
    "Check the type of variable by type()"
   ]
  },
  {
   "cell_type": "markdown",
   "id": "5b1668ba",
   "metadata": {},
   "source": [
    "### 4. Complex number\n",
    "a + bi"
   ]
  },
  {
   "cell_type": "code",
   "execution_count": 27,
   "id": "9116cb3f",
   "metadata": {},
   "outputs": [
    {
     "data": {
      "text/plain": [
       "(3+5j)"
      ]
     },
     "execution_count": 27,
     "metadata": {},
     "output_type": "execute_result"
    }
   ],
   "source": [
    "y = 3 +  5j\n",
    "y"
   ]
  },
  {
   "cell_type": "code",
   "execution_count": 29,
   "id": "df35787c",
   "metadata": {},
   "outputs": [
    {
     "data": {
      "text/plain": [
       "5j"
      ]
     },
     "execution_count": 29,
     "metadata": {},
     "output_type": "execute_result"
    }
   ],
   "source": [
    "x = 5j\n",
    "x"
   ]
  },
  {
   "cell_type": "code",
   "execution_count": 34,
   "id": "dd2cb427",
   "metadata": {},
   "outputs": [
    {
     "data": {
      "text/plain": [
       "3.0"
      ]
     },
     "execution_count": 34,
     "metadata": {},
     "output_type": "execute_result"
    }
   ],
   "source": [
    "# to access the imaginary and real part\n",
    "y.real"
   ]
  },
  {
   "cell_type": "code",
   "execution_count": 35,
   "id": "46cd974b",
   "metadata": {},
   "outputs": [
    {
     "data": {
      "text/plain": [
       "5.0"
      ]
     },
     "execution_count": 35,
     "metadata": {},
     "output_type": "execute_result"
    }
   ],
   "source": [
    "y.imag"
   ]
  },
  {
   "cell_type": "code",
   "execution_count": 37,
   "id": "6c9c2a9e",
   "metadata": {},
   "outputs": [
    {
     "data": {
      "text/plain": [
       "(3+4j)"
      ]
     },
     "execution_count": 37,
     "metadata": {},
     "output_type": "execute_result"
    }
   ],
   "source": [
    "# can also use build-In function\n",
    "a = 3\n",
    "b = 4\n",
    "c = complex(a,b)\n",
    "c"
   ]
  },
  {
   "cell_type": "code",
   "execution_count": 40,
   "id": "a0df120c",
   "metadata": {},
   "outputs": [
    {
     "data": {
      "text/plain": [
       "(-7+4j)"
      ]
     },
     "execution_count": 40,
     "metadata": {},
     "output_type": "execute_result"
    }
   ],
   "source": [
    "# add sub mul div\n",
    "c * 2\n",
    "c / 2\n",
    "c - 10"
   ]
  },
  {
   "cell_type": "markdown",
   "id": "4d5cc884",
   "metadata": {},
   "source": [
    "add/Sub updates the real part only but Mul/Div updates the real as well as Imag part\n"
   ]
  },
  {
   "cell_type": "markdown",
   "id": "89196f5d",
   "metadata": {},
   "source": [
    "### 4. Boolen Values\n",
    "True or False ( 0 or 1 )"
   ]
  },
  {
   "cell_type": "code",
   "execution_count": 43,
   "id": "0d4a89a2",
   "metadata": {},
   "outputs": [
    {
     "data": {
      "text/plain": [
       "True"
      ]
     },
     "execution_count": 43,
     "metadata": {},
     "output_type": "execute_result"
    }
   ],
   "source": [
    "x = True\n",
    "y = False\n",
    "x"
   ]
  },
  {
   "cell_type": "code",
   "execution_count": 50,
   "id": "05d1ff3c",
   "metadata": {},
   "outputs": [
    {
     "data": {
      "text/plain": [
       "True"
      ]
     },
     "execution_count": 50,
     "metadata": {},
     "output_type": "execute_result"
    }
   ],
   "source": [
    "y = bool(0.0)\n",
    "# y\n",
    "z = bool(-10)\n",
    "z"
   ]
  },
  {
   "cell_type": "markdown",
   "id": "7081c5dd",
   "metadata": {},
   "source": [
    "< 0 > -> True\n",
    "\n",
    "0 -> False\n",
    "\n",
    "\n",
    "treats any value as 0 or 0.0 as False and any other value to be True\n",
    "\n",
    "**Operations**"
   ]
  },
  {
   "cell_type": "code",
   "execution_count": 73,
   "id": "714e238c",
   "metadata": {},
   "outputs": [],
   "source": [
    "x = True # 1\n",
    "y = False # 0\n",
    "# try T T, T F , F F"
   ]
  },
  {
   "cell_type": "code",
   "execution_count": 79,
   "id": "895559b0",
   "metadata": {},
   "outputs": [
    {
     "data": {
      "text/plain": [
       "2"
      ]
     },
     "execution_count": 79,
     "metadata": {},
     "output_type": "execute_result"
    }
   ],
   "source": [
    "x + y # 1+0"
   ]
  },
  {
   "cell_type": "code",
   "execution_count": 80,
   "id": "a525053f",
   "metadata": {},
   "outputs": [
    {
     "data": {
      "text/plain": [
       "0"
      ]
     },
     "execution_count": 80,
     "metadata": {},
     "output_type": "execute_result"
    }
   ],
   "source": [
    "x-y # 1-0"
   ]
  },
  {
   "cell_type": "code",
   "execution_count": 81,
   "id": "e0d638c3",
   "metadata": {},
   "outputs": [
    {
     "data": {
      "text/plain": [
       "1"
      ]
     },
     "execution_count": 81,
     "metadata": {},
     "output_type": "execute_result"
    }
   ],
   "source": [
    "x * y # 1*0"
   ]
  },
  {
   "cell_type": "code",
   "execution_count": 82,
   "id": "e59c0a31",
   "metadata": {},
   "outputs": [
    {
     "data": {
      "text/plain": [
       "1.0"
      ]
     },
     "execution_count": 82,
     "metadata": {},
     "output_type": "execute_result"
    }
   ],
   "source": [
    "x / y  #1/0"
   ]
  },
  {
   "cell_type": "markdown",
   "id": "803cf048",
   "metadata": {},
   "source": [
    "**Byte, Byte Array, Memory view**"
   ]
  },
  {
   "cell_type": "code",
   "execution_count": 84,
   "id": "d6fd515e",
   "metadata": {},
   "outputs": [
    {
     "data": {
      "text/plain": [
       "b'HElloworld'"
      ]
     },
     "execution_count": 84,
     "metadata": {},
     "output_type": "execute_result"
    }
   ],
   "source": [
    "x = b\"My Name is Ayush\"\n",
    "x"
   ]
  },
  {
   "cell_type": "code",
   "execution_count": 86,
   "id": "8197b29d",
   "metadata": {},
   "outputs": [
    {
     "data": {
      "text/plain": [
       "bytearray(b'\\x00\\x00\\x00\\x00\\x00\\x00')"
      ]
     },
     "execution_count": 86,
     "metadata": {},
     "output_type": "execute_result"
    }
   ],
   "source": [
    "bytearray(6)"
   ]
  },
  {
   "cell_type": "code",
   "execution_count": 87,
   "id": "adbca027",
   "metadata": {},
   "outputs": [
    {
     "data": {
      "text/plain": [
       "<memory at 0x000001D0FE89ABC0>"
      ]
     },
     "execution_count": 87,
     "metadata": {},
     "output_type": "execute_result"
    }
   ],
   "source": [
    "memoryview(bytes(5))"
   ]
  },
  {
   "cell_type": "markdown",
   "id": "0f4ee4c4",
   "metadata": {},
   "source": [
    "we can Concatinate byte string"
   ]
  },
  {
   "cell_type": "code",
   "execution_count": 88,
   "id": "8fdc787c",
   "metadata": {},
   "outputs": [
    {
     "data": {
      "text/plain": [
       "b'My Name is Ayush.Currentlly in my 2nd year'"
      ]
     },
     "execution_count": 88,
     "metadata": {},
     "output_type": "execute_result"
    }
   ],
   "source": [
    "x = b\"My Name is Ayush.\"\n",
    "y = b\"Currentlly in my 2nd year\"\n",
    "x + y"
   ]
  },
  {
   "cell_type": "markdown",
   "id": "75c9a642",
   "metadata": {},
   "source": [
    "### ( + ) Operator\n",
    "Int/Float and Int/Float ✅\n",
    "Str and Str ✅\n",
    "Str and Int/float ❎\n",
    "\n"
   ]
  },
  {
   "cell_type": "code",
   "execution_count": 10,
   "id": "aa772d49",
   "metadata": {},
   "outputs": [
    {
     "data": {
      "text/plain": [
       "16.1"
      ]
     },
     "execution_count": 10,
     "metadata": {},
     "output_type": "execute_result"
    }
   ],
   "source": [
    "x = 12\n",
    "y = 4.1\n",
    "z = x + y\n",
    "z"
   ]
  },
  {
   "cell_type": "markdown",
   "id": "3cd465fa",
   "metadata": {},
   "source": [
    "**Concatination** Powerfull Tool to deal with Stringss"
   ]
  },
  {
   "cell_type": "code",
   "execution_count": 13,
   "id": "b7b376ff",
   "metadata": {},
   "outputs": [
    {
     "data": {
      "text/plain": [
       "'1016.0'"
      ]
     },
     "execution_count": 13,
     "metadata": {},
     "output_type": "execute_result"
    }
   ],
   "source": [
    "# Concatinating Str with String \n",
    "x = \"10\"\n",
    "y = \"16.0\"\n",
    "z = x + y\n",
    "z\n",
    "# type(z)"
   ]
  },
  {
   "cell_type": "code",
   "execution_count": 14,
   "id": "a6103c8d",
   "metadata": {},
   "outputs": [
    {
     "ename": "TypeError",
     "evalue": "can only concatenate str (not \"int\") to str",
     "output_type": "error",
     "traceback": [
      "\u001b[1;31m---------------------------------------------------------------------------\u001b[0m",
      "\u001b[1;31mTypeError\u001b[0m                                 Traceback (most recent call last)",
      "Cell \u001b[1;32mIn[14], line 4\u001b[0m\n\u001b[0;32m      2\u001b[0m x \u001b[38;5;241m=\u001b[39m \u001b[38;5;124m\"\u001b[39m\u001b[38;5;124m10\u001b[39m\u001b[38;5;124m\"\u001b[39m  \u001b[38;5;66;03m# string\u001b[39;00m\n\u001b[0;32m      3\u001b[0m y \u001b[38;5;241m=\u001b[39m \u001b[38;5;241m16\u001b[39m    \u001b[38;5;66;03m# Int\u001b[39;00m\n\u001b[1;32m----> 4\u001b[0m z \u001b[38;5;241m=\u001b[39m x \u001b[38;5;241m+\u001b[39m y\n\u001b[0;32m      5\u001b[0m z\n",
      "\u001b[1;31mTypeError\u001b[0m: can only concatenate str (not \"int\") to str"
     ]
    }
   ],
   "source": [
    "# cocatinating Str with Int\n",
    "x = \"10\"  # string\n",
    "y = 16    # Int\n",
    "z = x + y\n",
    "z"
   ]
  },
  {
   "cell_type": "markdown",
   "id": "95ad787d",
   "metadata": {},
   "source": [
    "Giving the error i.e fails concatination with str & Int\n",
    "\n",
    "In Python you cannot mix a string and integer or string and float"
   ]
  },
  {
   "cell_type": "markdown",
   "id": "5862bcb4",
   "metadata": {},
   "source": [
    "### ( - ) Operator\n",
    "Int/Float and Int/Float ✅\n",
    "Str and Str/Int/float ❎\n",
    "\n"
   ]
  },
  {
   "cell_type": "markdown",
   "id": "062e1df4",
   "metadata": {},
   "source": [
    "**NOTE** : same for * and / i.e to deal with string we can only use + k/as Concatination"
   ]
  },
  {
   "cell_type": "markdown",
   "id": "949073fd",
   "metadata": {},
   "source": [
    "### ( * ) Operator\n",
    "Int/Float and Int/Float ✅\n",
    "Str and Str/Int/float ❎"
   ]
  },
  {
   "cell_type": "code",
   "execution_count": 21,
   "id": "f79b2ca2",
   "metadata": {},
   "outputs": [
    {
     "data": {
      "text/plain": [
       "1104.0"
      ]
     },
     "execution_count": 21,
     "metadata": {},
     "output_type": "execute_result"
    }
   ],
   "source": [
    "x = 32\n",
    "y = 34.5\n",
    "x * y"
   ]
  },
  {
   "cell_type": "markdown",
   "id": "f4aaa077",
   "metadata": {},
   "source": [
    "### ( / ) Operator\n",
    "Int/Float and Int/Float ✅"
   ]
  },
  {
   "cell_type": "code",
   "execution_count": 20,
   "id": "a621703f",
   "metadata": {},
   "outputs": [
    {
     "data": {
      "text/plain": [
       "1.0392609699769053"
      ]
     },
     "execution_count": 20,
     "metadata": {},
     "output_type": "execute_result"
    }
   ],
   "source": [
    "x = 45\n",
    "y = 43.3\n",
    "x/y"
   ]
  }
 ],
 "metadata": {
  "kernelspec": {
   "display_name": "Python 3 (ipykernel)",
   "language": "python",
   "name": "python3"
  },
  "language_info": {
   "codemirror_mode": {
    "name": "ipython",
    "version": 3
   },
   "file_extension": ".py",
   "mimetype": "text/x-python",
   "name": "python",
   "nbconvert_exporter": "python",
   "pygments_lexer": "ipython3",
   "version": "3.11.4"
  }
 },
 "nbformat": 4,
 "nbformat_minor": 5
}
