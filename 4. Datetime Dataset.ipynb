{
 "cells": [
  {
   "cell_type": "markdown",
   "id": "b4cd7790",
   "metadata": {},
   "source": [
    "## Datetime Dataset"
   ]
  },
  {
   "cell_type": "code",
   "execution_count": 17,
   "id": "2ebe6ade",
   "metadata": {},
   "outputs": [],
   "source": [
    "from datetime import datetime as dt"
   ]
  },
  {
   "cell_type": "code",
   "execution_count": 28,
   "id": "018b832b",
   "metadata": {},
   "outputs": [
    {
     "name": "stdout",
     "output_type": "stream",
     "text": [
      "2017-05-17 12:40:12\n",
      "2017-05-17 12:40:12\n"
     ]
    }
   ],
   "source": [
    "# d = dt(yyyy, m, dd, hh, mm, ss)\n",
    "# callinf datetime as dt here\n",
    "d = dt(2017, 5, 17, 12, 40 , 12)\n",
    "print(d)\n",
    "print(str(d))"
   ]
  },
  {
   "cell_type": "code",
   "execution_count": 29,
   "id": "a023e28c",
   "metadata": {},
   "outputs": [
    {
     "name": "stdout",
     "output_type": "stream",
     "text": [
      "2017 - 2 - 27   12 : 40 : 55\n"
     ]
    }
   ],
   "source": [
    "# How datetime is formed\n",
    "def datetime( y, m,  d,  h,  mo,  s):\n",
    "    print(y,\"-\",m,\"-\",d,\" \",h,\":\",mo,\":\",s)\n",
    "\n",
    "datetime(2017, 2, 27, 12,40,55)"
   ]
  },
  {
   "cell_type": "code",
   "execution_count": 27,
   "id": "cdef0860",
   "metadata": {},
   "outputs": [
    {
     "data": {
      "text/plain": [
       "'00,51,44'"
      ]
     },
     "execution_count": 27,
     "metadata": {},
     "output_type": "execute_result"
    }
   ],
   "source": [
    "# To get Real Time\n",
    "import time\n",
    "time.strftime('%H,%M,%S')"
   ]
  },
  {
   "cell_type": "code",
   "execution_count": 36,
   "id": "307ea04c",
   "metadata": {},
   "outputs": [
    {
     "data": {
      "text/plain": [
       "datetime.timedelta(days=1, seconds=7800)"
      ]
     },
     "execution_count": 36,
     "metadata": {},
     "output_type": "execute_result"
    }
   ],
   "source": [
    "d2 = dt(2024, 2, 27, 1, 0, 22)\n",
    "d1 = dt(2024, 2, 28, 3, 10, 22)\n",
    "d1 - d2"
   ]
  },
  {
   "cell_type": "markdown",
   "id": "8402acb0",
   "metadata": {},
   "source": [
    "#### TIme Delta"
   ]
  },
  {
   "cell_type": "code",
   "execution_count": 39,
   "id": "2ea060a3",
   "metadata": {
    "scrolled": true
   },
   "outputs": [
    {
     "name": "stdout",
     "output_type": "stream",
     "text": [
      "1 day, 2:10:00\n"
     ]
    },
    {
     "data": {
      "text/plain": [
       "'1 day, 2:10:00'"
      ]
     },
     "execution_count": 39,
     "metadata": {},
     "output_type": "execute_result"
    }
   ],
   "source": [
    "from datetime import timedelta as td\n",
    "y = td(days = 1, hours=2, minutes=10)\n",
    "print(y)\n",
    "str(y)"
   ]
  }
 ],
 "metadata": {
  "kernelspec": {
   "display_name": "Python 3 (ipykernel)",
   "language": "python",
   "name": "python3"
  },
  "language_info": {
   "codemirror_mode": {
    "name": "ipython",
    "version": 3
   },
   "file_extension": ".py",
   "mimetype": "text/x-python",
   "name": "python",
   "nbconvert_exporter": "python",
   "pygments_lexer": "ipython3",
   "version": "3.11.4"
  }
 },
 "nbformat": 4,
 "nbformat_minor": 5
}
