{
 "cells": [
  {
   "cell_type": "markdown",
   "id": "d8757176",
   "metadata": {},
   "source": [
    "## Excel File Handling Using Python"
   ]
  },
  {
   "cell_type": "markdown",
   "id": "a4d288a5",
   "metadata": {},
   "source": [
    "### Part 1 — The CSV(comma Seperated Files) file"
   ]
  },
  {
   "cell_type": "code",
   "execution_count": 66,
   "id": "c9990681",
   "metadata": {},
   "outputs": [],
   "source": [
    "# Writing to CSV Files\n",
    "import csv"
   ]
  },
  {
   "cell_type": "markdown",
   "id": "bb35b28a",
   "metadata": {},
   "source": [
    "#### has all methods buildin \n",
    "- DictReader\n",
    "- DictWriter\n",
    "- reader\n",
    "- writer\n",
    "\n",
    "\n"
   ]
  },
  {
   "cell_type": "code",
   "execution_count": 67,
   "id": "30de4934",
   "metadata": {},
   "outputs": [],
   "source": [
    "file_name = \"newfile.csv\"\n",
    "header = (\"Rank\",\"Rating\",\"Title\")\n",
    "data = [(1,9.1,\"Title1\"),(2,9.2,\"Title2\"),(3,9.3,\"Title3\"),(4,9.4,\"Title4\")]"
   ]
  },
  {
   "cell_type": "code",
   "execution_count": 68,
   "id": "42b544b9",
   "metadata": {},
   "outputs": [],
   "source": [
    "# need to create a function\n",
    "def writer(header, data, file_name):\n",
    "    pass"
   ]
  },
  {
   "cell_type": "code",
   "execution_count": 69,
   "id": "adfbd776",
   "metadata": {},
   "outputs": [],
   "source": [
    "# To write in CSV file\n",
    "def writer(header, data, file_name):\n",
    "    with open (file_name,\"w\")as csvfile:\n",
    "        movies = csv.writer(csvfile)\n",
    "        movies.writerow(header)\n",
    "        for x in data:\n",
    "            movies.writerow(x)"
   ]
  },
  {
   "cell_type": "code",
   "execution_count": 70,
   "id": "dc0e7cc5",
   "metadata": {},
   "outputs": [],
   "source": [
    "writer(header,data,file_name)"
   ]
  },
  {
   "cell_type": "code",
   "execution_count": 83,
   "id": "c7311afb",
   "metadata": {},
   "outputs": [],
   "source": [
    "# to update CSV File\n",
    "def updater(file_name):\n",
    "    with open(file_name,newline=\"\") as file:\n",
    "        readData = [row for row in csv.DictReader(file)]\n",
    "        print(readData)\n",
    "        readData[0]['Rating']='9.4'\n",
    "        print(readData)\n",
    "    \n",
    "    readHeader = readData[0].values()\n",
    "    writer(readHeader,readData,file_name)"
   ]
  },
  {
   "cell_type": "code",
   "execution_count": 84,
   "id": "6ed4a4dd",
   "metadata": {},
   "outputs": [],
   "source": [
    "writer(header, data, file_name)"
   ]
  },
  {
   "cell_type": "code",
   "execution_count": 85,
   "id": "c7c4ad9b",
   "metadata": {},
   "outputs": [
    {
     "name": "stdout",
     "output_type": "stream",
     "text": [
      "[{'Rank': '1', 'Rating': '9.1', 'Title': 'Title1'}, {'Rank': '2', 'Rating': '9.2', 'Title': 'Title2'}, {'Rank': '3', 'Rating': '9.3', 'Title': 'Title3'}, {'Rank': '4', 'Rating': '9.4', 'Title': 'Title4'}]\n",
      "[{'Rank': '1', 'Rating': '9.4', 'Title': 'Title1'}, {'Rank': '2', 'Rating': '9.2', 'Title': 'Title2'}, {'Rank': '3', 'Rating': '9.3', 'Title': 'Title3'}, {'Rank': '4', 'Rating': '9.4', 'Title': 'Title4'}]\n"
     ]
    }
   ],
   "source": [
    "writer(header, data, file_name)\n",
    "updater(file_name)"
   ]
  },
  {
   "cell_type": "code",
   "execution_count": null,
   "id": "cd77278f",
   "metadata": {},
   "outputs": [],
   "source": []
  },
  {
   "cell_type": "code",
   "execution_count": null,
   "id": "85163ccc",
   "metadata": {},
   "outputs": [],
   "source": []
  }
 ],
 "metadata": {
  "kernelspec": {
   "display_name": "Python 3 (ipykernel)",
   "language": "python",
   "name": "python3"
  },
  "language_info": {
   "codemirror_mode": {
    "name": "ipython",
    "version": 3
   },
   "file_extension": ".py",
   "mimetype": "text/x-python",
   "name": "python",
   "nbconvert_exporter": "python",
   "pygments_lexer": "ipython3",
   "version": "3.11.4"
  }
 },
 "nbformat": 4,
 "nbformat_minor": 5
}
