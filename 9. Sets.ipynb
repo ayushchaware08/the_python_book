{
 "cells": [
  {
   "cell_type": "markdown",
   "id": "45b3e88b",
   "metadata": {},
   "source": [
    "## Sets {'--'}\n",
    "Sets is that they cannot contain duplicate values so can be useful for storing unique values."
   ]
  },
  {
   "cell_type": "raw",
   "id": "c478da2a",
   "metadata": {},
   "source": []
  },
  {
   "cell_type": "code",
   "execution_count": 1,
   "id": "9486081b",
   "metadata": {},
   "outputs": [
    {
     "data": {
      "text/plain": [
       "{'Ayush', 'Harshal', 'Mohit'}"
      ]
     },
     "execution_count": 1,
     "metadata": {},
     "output_type": "execute_result"
    }
   ],
   "source": [
    "name = {\"Ayush\", \"Harshal\",\"Mohit\"} # no duplicate values\n",
    "name"
   ]
  },
  {
   "cell_type": "code",
   "execution_count": 9,
   "id": "d8a3c7f6",
   "metadata": {},
   "outputs": [
    {
     "data": {
      "text/plain": [
       "{2, 4, 5, 'Ayush', 'Harshal', 'Mohit'}"
      ]
     },
     "execution_count": 9,
     "metadata": {},
     "output_type": "execute_result"
    }
   ],
   "source": [
    "name = {\"Ayush\",\"Ayush\",\"Harshal\",\"Mohit\",2,4,5} #adding int to set\n",
    "name"
   ]
  },
  {
   "cell_type": "code",
   "execution_count": 10,
   "id": "f799591b",
   "metadata": {},
   "outputs": [
    {
     "data": {
      "text/plain": [
       "{2, 4, 5, 'Ayush', 'Harshal', 'Mohit'}"
      ]
     },
     "execution_count": 10,
     "metadata": {},
     "output_type": "execute_result"
    }
   ],
   "source": [
    "# the order printed is not same as we puy into it (dict)\n",
    "name = set({\"Ayush\",\"Harshal\",\"Mohit\",2,4,5}) \n",
    "name"
   ]
  },
  {
   "cell_type": "code",
   "execution_count": 11,
   "id": "d41b3554",
   "metadata": {},
   "outputs": [
    {
     "data": {
      "text/plain": [
       "{2, 4, 5, 'Ayush', 'Harshal', 'Mohit'}"
      ]
     },
     "execution_count": 11,
     "metadata": {},
     "output_type": "execute_result"
    }
   ],
   "source": [
    "# Tupple\n",
    "name =(\"Ayush\",\"Harshal\",\"Mohit\",2,4,5) \n",
    "sets_name = set(name)\n",
    "sets_name"
   ]
  },
  {
   "cell_type": "code",
   "execution_count": 12,
   "id": "d02d8d44",
   "metadata": {},
   "outputs": [
    {
     "data": {
      "text/plain": [
       "{2, 4, 5, 'Ayush', 'Harshal', 'Mohit'}"
      ]
     },
     "execution_count": 12,
     "metadata": {},
     "output_type": "execute_result"
    }
   ],
   "source": [
    "# List\n",
    "name = [\"Ayush\",\"Harshal\",\"Mohit\",2,4,5]\n",
    "sets_name = set(name) \n",
    "sets_name"
   ]
  },
  {
   "cell_type": "code",
   "execution_count": 20,
   "id": "24b21dcd",
   "metadata": {},
   "outputs": [
    {
     "data": {
      "text/plain": [
       "{'Ayush'}"
      ]
     },
     "execution_count": 20,
     "metadata": {},
     "output_type": "execute_result"
    }
   ],
   "source": [
    "# set1 = {\"Aysuh\"}\n",
    "name ={'Ayush'}\n",
    "name"
   ]
  },
  {
   "cell_type": "code",
   "execution_count": 22,
   "id": "14cb3b9a",
   "metadata": {},
   "outputs": [
    {
     "data": {
      "text/plain": [
       "{'a', 'c', 'd', 'e', 'i', 'm', 'n', 'o', 'r', 's', 't'}"
      ]
     },
     "execution_count": 22,
     "metadata": {},
     "output_type": "execute_result"
    }
   ],
   "source": [
    "# lets put duplicate value\n",
    "name = set('mastrodomenico') # repeted o, m, (case sensetive)\n",
    "name"
   ]
  },
  {
   "cell_type": "markdown",
   "id": "0f2864b2",
   "metadata": {},
   "source": [
    "**Add List Dict Tupple in Sets**"
   ]
  },
  {
   "cell_type": "code",
   "execution_count": 24,
   "id": "fc7eaafd",
   "metadata": {},
   "outputs": [
    {
     "ename": "TypeError",
     "evalue": "unhashable type: 'list'",
     "output_type": "error",
     "traceback": [
      "\u001b[1;31m---------------------------------------------------------------------------\u001b[0m",
      "\u001b[1;31mTypeError\u001b[0m                                 Traceback (most recent call last)",
      "Cell \u001b[1;32mIn[24], line 2\u001b[0m\n\u001b[0;32m      1\u001b[0m \u001b[38;5;66;03m# Try to add List in sets\u001b[39;00m\n\u001b[1;32m----> 2\u001b[0m my_set \u001b[38;5;241m=\u001b[39m {\u001b[38;5;124m'\u001b[39m\u001b[38;5;124mTony\u001b[39m\u001b[38;5;124m'\u001b[39m,\u001b[38;5;124m'\u001b[39m\u001b[38;5;124mWanda\u001b[39m\u001b[38;5;124m'\u001b[39m, \u001b[38;5;241m1\u001b[39m, \u001b[38;5;241m2\u001b[39m, [\u001b[38;5;124m'\u001b[39m\u001b[38;5;124mhello\u001b[39m\u001b[38;5;124m'\u001b[39m,\u001b[38;5;124m'\u001b[39m\u001b[38;5;124mworld\u001b[39m\u001b[38;5;124m'\u001b[39m]}\n",
      "\u001b[1;31mTypeError\u001b[0m: unhashable type: 'list'"
     ]
    }
   ],
   "source": [
    "# Try to add List in sets\n",
    "my_set = {'Tony','Wanda', 1, 2, ['hello','world']}\n",
    "# unhashable list"
   ]
  },
  {
   "cell_type": "code",
   "execution_count": 25,
   "id": "4b977cca",
   "metadata": {},
   "outputs": [
    {
     "ename": "TypeError",
     "evalue": "unhashable type: 'dict'",
     "output_type": "error",
     "traceback": [
      "\u001b[1;31m---------------------------------------------------------------------------\u001b[0m",
      "\u001b[1;31mTypeError\u001b[0m                                 Traceback (most recent call last)",
      "Cell \u001b[1;32mIn[25], line 2\u001b[0m\n\u001b[0;32m      1\u001b[0m \u001b[38;5;66;03m# same with dict\u001b[39;00m\n\u001b[1;32m----> 2\u001b[0m my_set \u001b[38;5;241m=\u001b[39m {\u001b[38;5;124m'\u001b[39m\u001b[38;5;124mTony\u001b[39m\u001b[38;5;124m'\u001b[39m,\u001b[38;5;124m'\u001b[39m\u001b[38;5;124mWanda\u001b[39m\u001b[38;5;124m'\u001b[39m, \u001b[38;5;241m1\u001b[39m, \u001b[38;5;241m2\u001b[39m, {\u001b[38;5;124m'\u001b[39m\u001b[38;5;124mkey\u001b[39m\u001b[38;5;124m'\u001b[39m:\u001b[38;5;124m'\u001b[39m\u001b[38;5;124mvalue\u001b[39m\u001b[38;5;124m'\u001b[39m}}\n",
      "\u001b[1;31mTypeError\u001b[0m: unhashable type: 'dict'"
     ]
    }
   ],
   "source": [
    "# same with dict\n",
    "my_set = {'Tony','Wanda', 1, 2, {'key':'value'}}\n",
    "# Unhashable dict"
   ]
  },
  {
   "cell_type": "code",
   "execution_count": 26,
   "id": "f65d233b",
   "metadata": {},
   "outputs": [
    {
     "data": {
      "text/plain": [
       "{(1, 2, 3), 1, 2, 'Tony', 'Wanda'}"
      ]
     },
     "execution_count": 26,
     "metadata": {},
     "output_type": "execute_result"
    }
   ],
   "source": [
    "# with tupple it works\n",
    "my_set = {'Tony','Wanda', 1, 2, (1,2,3)}\n",
    "my_set"
   ]
  },
  {
   "cell_type": "markdown",
   "id": "80ab1157",
   "metadata": {},
   "source": [
    "**Check the value on Sets**"
   ]
  },
  {
   "cell_type": "code",
   "execution_count": 27,
   "id": "54efe486",
   "metadata": {},
   "outputs": [
    {
     "data": {
      "text/plain": [
       "True"
      ]
     },
     "execution_count": 27,
     "metadata": {},
     "output_type": "execute_result"
    }
   ],
   "source": [
    "'Tony'  in my_set #case sensetive"
   ]
  },
  {
   "cell_type": "code",
   "execution_count": 28,
   "id": "c9f7ffd0",
   "metadata": {},
   "outputs": [
    {
     "data": {
      "text/plain": [
       "{'AYush', 'Abhijeet', 'Harshal', 'Mohit'}"
      ]
     },
     "execution_count": 28,
     "metadata": {},
     "output_type": "execute_result"
    }
   ],
   "source": [
    "# add item\n",
    "names = {'AYush','Harshal',\"Mohit\"}\n",
    "names.add(\"Abhijeet\")\n",
    "names"
   ]
  },
  {
   "cell_type": "markdown",
   "id": "387d79b3",
   "metadata": {},
   "source": [
    "**Union |(OR)**"
   ]
  },
  {
   "cell_type": "code",
   "execution_count": 39,
   "id": "f08a348b",
   "metadata": {
    "scrolled": true
   },
   "outputs": [
    {
     "name": "stdout",
     "output_type": "stream",
     "text": [
      "{'Mohit', 'Harshal', 'Ayush'}\n",
      "{'a', 'm', 'n', 'e'}\n",
      "{'a', 'r', 't', 's', 'o', 'n', 'e', 'i', 'c', 'm', 'd'}\n"
     ]
    }
   ],
   "source": [
    "# we can have duplicates in list dict tupple \n",
    "# to make it set\n",
    "# let's have a list\n",
    "names = {'Ayush','Harshal',\"Mohit\",\"Ayush\",\"Harshal\",\"Harshal\",\"Mohit\"}\n",
    "updated_name = set(names)\n",
    "print(set(updated_name))\n",
    "print(set('name'))\n",
    "print(set(name))"
   ]
  },
  {
   "cell_type": "code",
   "execution_count": 45,
   "id": "710f516e",
   "metadata": {},
   "outputs": [
    {
     "data": {
      "text/plain": [
       "{'Ayush', 'Carol', 'Natasha', 'Peter', 'Steve', 'Tony', 'Wanda'}"
      ]
     },
     "execution_count": 45,
     "metadata": {},
     "output_type": "execute_result"
    }
   ],
   "source": [
    "# Obtain All Values from two Sets\n",
    "names = {'Tony','Peter','Natasha','Wanda',\"Ayush\"}\n",
    "more_names = {'Steve', \"Peter\",\"Ayush\",'Carol', 'Wanda'}\n",
    "names | more_names # OR operator"
   ]
  },
  {
   "cell_type": "code",
   "execution_count": 46,
   "id": "397c8845",
   "metadata": {},
   "outputs": [
    {
     "data": {
      "text/plain": [
       "{'Ayush', 'Carol', 'Natasha', 'Peter', 'Steve', 'Tony', 'Wanda'}"
      ]
     },
     "execution_count": 46,
     "metadata": {},
     "output_type": "execute_result"
    }
   ],
   "source": [
    "# union of two sets (comman Values)\n",
    "names.union(more_names)\n",
    "# same results no need to pass union in sets"
   ]
  },
  {
   "cell_type": "code",
   "execution_count": 47,
   "id": "06e6b9e9",
   "metadata": {},
   "outputs": [
    {
     "data": {
      "text/plain": [
       "{'Carol', 'Natasha', 'Peter', 'Steve', 'Tony', 'Wanda'}"
      ]
     },
     "execution_count": 47,
     "metadata": {},
     "output_type": "execute_result"
    }
   ],
   "source": [
    "# set\n",
    "names = {'Steve', 'Peter', 'Carol', 'Wanda'}\n",
    "# List\n",
    "more_names = ['Tony','Peter','Natasha','Wanda']\n",
    "names.union(more_names)\n",
    "# vive versa Error"
   ]
  },
  {
   "cell_type": "code",
   "execution_count": 48,
   "id": "bcecbccb",
   "metadata": {},
   "outputs": [
    {
     "ename": "TypeError",
     "evalue": "unsupported operand type(s) for |: 'set' and 'list'",
     "output_type": "error",
     "traceback": [
      "\u001b[1;31m---------------------------------------------------------------------------\u001b[0m",
      "\u001b[1;31mTypeError\u001b[0m                                 Traceback (most recent call last)",
      "Cell \u001b[1;32mIn[48], line 1\u001b[0m\n\u001b[1;32m----> 1\u001b[0m names \u001b[38;5;241m|\u001b[39m more_names\n",
      "\u001b[1;31mTypeError\u001b[0m: unsupported operand type(s) for |: 'set' and 'list'"
     ]
    }
   ],
   "source": [
    "names | more_names\n",
    "#Typeerror: OR unsupported for lis"
   ]
  },
  {
   "cell_type": "code",
   "execution_count": 61,
   "id": "aeb7fd63",
   "metadata": {
    "scrolled": true
   },
   "outputs": [
    {
     "data": {
      "text/plain": [
       "{'Ayush',\n",
       " 'Carol',\n",
       " 'Jonny',\n",
       " 'Natasha',\n",
       " 'Peter',\n",
       " 'Steve',\n",
       " 'Sue',\n",
       " 'Tony',\n",
       " 'Wade',\n",
       " 'Wanda'}"
      ]
     },
     "execution_count": 61,
     "metadata": {},
     "output_type": "execute_result"
    }
   ],
   "source": [
    "# (OR) of two or more sets (Union Unsupported)\n",
    "names = {'Tony','Peter','Natasha','Wanda','Ayush'}\n",
    "more_names = {'Steve', 'Peter', 'Carol', 'Wanda','Ayush'}\n",
    "even_more_names = {'Tony', 'Jonny', 'Sue', 'Wade','Ayush'}\n",
    "\n",
    "names | more_names | even_more_names #got all uniquue values from all\n",
    "# names.union() # Unsupported\n"
   ]
  },
  {
   "cell_type": "code",
   "execution_count": 62,
   "id": "6f386117",
   "metadata": {},
   "outputs": [
    {
     "data": {
      "text/plain": [
       "{'Ayush',\n",
       " 'Carol',\n",
       " 'Jonny',\n",
       " 'Natasha',\n",
       " 'Peter',\n",
       " 'Steve',\n",
       " 'Sue',\n",
       " 'Tony',\n",
       " 'Wade',\n",
       " 'Wanda'}"
      ]
     },
     "execution_count": 62,
     "metadata": {},
     "output_type": "execute_result"
    }
   ],
   "source": [
    "# Union set to list (OR supported)\n",
    "names = {'Tony','Peter','Natasha','Wanda','Ayush'}\n",
    "more_names = ['Steve', 'Peter', 'Carol', 'Wanda']\n",
    "even_more_names = ['Tony',\"Ayush\", 'Jonny', 'Sue', 'Wade']\n",
    "\n",
    "names.union(more_names,even_more_names)\n",
    "# names | more_names | even_more_names #Unsupported"
   ]
  },
  {
   "cell_type": "markdown",
   "id": "6c26e6eb",
   "metadata": {},
   "source": [
    "**& (and)** "
   ]
  },
  {
   "cell_type": "code",
   "execution_count": 64,
   "id": "e3bec197",
   "metadata": {},
   "outputs": [
    {
     "data": {
      "text/plain": [
       "{'Ayush'}"
      ]
     },
     "execution_count": 64,
     "metadata": {},
     "output_type": "execute_result"
    }
   ],
   "source": [
    "names = {'Tony','Peter','Natasha','Wanda','Ayush'}\n",
    "more_names = {'Steve', 'Peter', 'Carol', 'Wanda','Ayush'}\n",
    "even_more_names = {'Tony', 'Jonny', 'Sue', 'Wade','Ayush'}\n",
    "\n",
    "names & more_names & even_more_names # common in all"
   ]
  },
  {
   "cell_type": "code",
   "execution_count": 67,
   "id": "778f47a4",
   "metadata": {
    "scrolled": true
   },
   "outputs": [
    {
     "data": {
      "text/plain": [
       "{'Ayush'}"
      ]
     },
     "execution_count": 67,
     "metadata": {},
     "output_type": "execute_result"
    }
   ],
   "source": [
    "names.intersection(more_names,even_more_names)"
   ]
  },
  {
   "cell_type": "code",
   "execution_count": 70,
   "id": "0f0e2717",
   "metadata": {},
   "outputs": [
    {
     "data": {
      "text/plain": [
       "{'Ayush'}"
      ]
     },
     "execution_count": 70,
     "metadata": {},
     "output_type": "execute_result"
    }
   ],
   "source": [
    "# add set and list\n",
    "names = {'Tony','Peter','Natasha','Wanda','Ayush'}\n",
    "more_names = ['Steve', 'Peter', 'Carol',\"Ayush\", 'Wanda']\n",
    "\n",
    "# names & more_names # unsupported\n",
    "names.intersection(more_names,even_more_names)"
   ]
  },
  {
   "cell_type": "markdown",
   "id": "acd9fcc0",
   "metadata": {},
   "source": [
    "-"
   ]
  },
  {
   "cell_type": "code",
   "execution_count": 71,
   "id": "0681447a",
   "metadata": {
    "scrolled": true
   },
   "outputs": [
    {
     "data": {
      "text/plain": [
       "{'Natasha', 'Tony'}"
      ]
     },
     "execution_count": 71,
     "metadata": {},
     "output_type": "execute_result"
    }
   ],
   "source": [
    "names = {'Tony','Peter','Natasha','Wanda'}\n",
    "more_names = {'Steve', 'Peter', 'Carol', 'Wanda'}\n",
    "\n",
    "names - more_names\n"
   ]
  },
  {
   "cell_type": "code",
   "execution_count": 72,
   "id": "ab092c11",
   "metadata": {
    "scrolled": true
   },
   "outputs": [
    {
     "name": "stdout",
     "output_type": "stream",
     "text": [
      "{'Natasha', 'Tony'}\n",
      "{'Natasha', 'Tony'}\n"
     ]
    }
   ],
   "source": [
    "even_more_names = {'Peter', 'Jonny', 'Sue', 'Wade'}\n",
    "print(names - more_names - even_more_names)\n",
    "print(names.difference(more_names, even_more_names))"
   ]
  },
  {
   "cell_type": "code",
   "execution_count": null,
   "id": "1f31db64",
   "metadata": {},
   "outputs": [],
   "source": []
  },
  {
   "cell_type": "markdown",
   "id": "abd51ebb",
   "metadata": {},
   "source": [
    "**Experinments**"
   ]
  },
  {
   "cell_type": "code",
   "execution_count": 52,
   "id": "cb290d64",
   "metadata": {},
   "outputs": [
    {
     "name": "stdout",
     "output_type": "stream",
     "text": [
      "{'h', 's', 'y', 'u', 'A'}\n",
      "{'h', 's', 'y', 'u', 'A'}\n",
      "{'a', 'm', 'n', 'e'}\n"
     ]
    }
   ],
   "source": [
    "name = \"Ayush\"\n",
    "print(set('Ayush'))\n",
    "print(set(name))\n",
    "print(set('name'))"
   ]
  },
  {
   "cell_type": "code",
   "execution_count": null,
   "id": "d754d377",
   "metadata": {},
   "outputs": [],
   "source": []
  }
 ],
 "metadata": {
  "kernelspec": {
   "display_name": "Python 3 (ipykernel)",
   "language": "python",
   "name": "python3"
  },
  "language_info": {
   "codemirror_mode": {
    "name": "ipython",
    "version": 3
   },
   "file_extension": ".py",
   "mimetype": "text/x-python",
   "name": "python",
   "nbconvert_exporter": "python",
   "pygments_lexer": "ipython3",
   "version": "3.11.4"
  }
 },
 "nbformat": 4,
 "nbformat_minor": 5
}
