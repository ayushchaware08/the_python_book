{
 "cells": [
  {
   "cell_type": "markdown",
   "id": "45b3e88b",
   "metadata": {},
   "source": [
    "## Sets {'--'}\n",
    "Sets is that they cannot contain duplicate values so can be useful for storing unique values."
   ]
  },
  {
   "cell_type": "code",
   "execution_count": 50,
   "id": "9486081b",
   "metadata": {},
   "outputs": [
    {
     "data": {
      "text/plain": [
       "{'Ayush', 'Harshal', 'Mohit'}"
      ]
     },
     "execution_count": 50,
     "metadata": {},
     "output_type": "execute_result"
    }
   ],
   "source": [
    "name = {\"Ayush\", \"Harshal\",\"Mohit\"} # no duplicate values\n",
    "name"
   ]
  },
  {
   "cell_type": "code",
   "execution_count": 51,
   "id": "d8a3c7f6",
   "metadata": {
    "scrolled": true
   },
   "outputs": [
    {
     "data": {
      "text/plain": [
       "{2, 4, 5, 'Ayush', 'Harshal', 'Mohit'}"
      ]
     },
     "execution_count": 51,
     "metadata": {},
     "output_type": "execute_result"
    }
   ],
   "source": [
    "#adding int to set\n",
    "name = {\"Ayush\",\"Ayush\",\"Harshal\",\"Mohit\",2,4,5} \n",
    "name"
   ]
  },
  {
   "cell_type": "markdown",
   "id": "19bcafbe",
   "metadata": {},
   "source": [
    "**the order printed is not same as we put into it its a sequential form. set returns in sequential form**"
   ]
  },
  {
   "cell_type": "code",
   "execution_count": 52,
   "id": "f799591b",
   "metadata": {},
   "outputs": [
    {
     "data": {
      "text/plain": [
       "{'name', 'name2'}"
      ]
     },
     "execution_count": 52,
     "metadata": {},
     "output_type": "execute_result"
    }
   ],
   "source": [
    "#  let's convert (dict) to set\n",
    "name = set({\"name\":\"Ayush\",\"name2\":\"Harshal\",\"name2\":\"Mohit\"}) \n",
    "name"
   ]
  },
  {
   "cell_type": "code",
   "execution_count": 53,
   "id": "d41b3554",
   "metadata": {},
   "outputs": [
    {
     "data": {
      "text/plain": [
       "{2, 4, 5, 'Ayush', 'Harshal', 'Mohit', 'moghe'}"
      ]
     },
     "execution_count": 53,
     "metadata": {},
     "output_type": "execute_result"
    }
   ],
   "source": [
    "# converting Tupple to set\n",
    "name =(\"Ayush\",\"Harshal\",\"Mohit\",\"moghe\",\"moghe\",\"Ayush\",2,2,4,5) \n",
    "sets_name = set(name)\n",
    "sets_name"
   ]
  },
  {
   "cell_type": "code",
   "execution_count": 54,
   "id": "d02d8d44",
   "metadata": {},
   "outputs": [
    {
     "data": {
      "text/plain": [
       "{2, 4, 5, 'Ayush', 'Harshal', 'Mohit'}"
      ]
     },
     "execution_count": 54,
     "metadata": {},
     "output_type": "execute_result"
    }
   ],
   "source": [
    "# Converting List to set\n",
    "name = [\"Ayush\",\"Harshal\",\"Mohit\",\"Ayush\",2,2,4,5]\n",
    "sets_name = set(name) \n",
    "sets_name"
   ]
  },
  {
   "cell_type": "code",
   "execution_count": 55,
   "id": "24b21dcd",
   "metadata": {},
   "outputs": [
    {
     "data": {
      "text/plain": [
       "{'Ayush'}"
      ]
     },
     "execution_count": 55,
     "metadata": {},
     "output_type": "execute_result"
    }
   ],
   "source": [
    "# set1 = {\"Aysuh\"}\n",
    "name = {'Ayush'}\n",
    "name"
   ]
  },
  {
   "cell_type": "code",
   "execution_count": 56,
   "id": "14cb3b9a",
   "metadata": {},
   "outputs": [
    {
     "data": {
      "text/plain": [
       "{'M', 'a', 'c', 'd', 'e', 'i', 'm', 'n', 'o', 'r', 's', 't'}"
      ]
     },
     "execution_count": 56,
     "metadata": {},
     "output_type": "execute_result"
    }
   ],
   "source": [
    "# lets put duplicate value\n",
    "name = set('Mastrodomenico') # repeted o, m, (case sensetive)\n",
    "name"
   ]
  },
  {
   "cell_type": "markdown",
   "id": "663e22f8",
   "metadata": {},
   "source": [
    "**Add List Dict Tupple in Sets**"
   ]
  },
  {
   "cell_type": "code",
   "execution_count": 57,
   "id": "fc7eaafd",
   "metadata": {},
   "outputs": [
    {
     "ename": "TypeError",
     "evalue": "unhashable type: 'list'",
     "output_type": "error",
     "traceback": [
      "\u001b[1;31m---------------------------------------------------------------------------\u001b[0m",
      "\u001b[1;31mTypeError\u001b[0m                                 Traceback (most recent call last)",
      "Cell \u001b[1;32mIn[57], line 2\u001b[0m\n\u001b[0;32m      1\u001b[0m \u001b[38;5;66;03m# Try to add List in sets\u001b[39;00m\n\u001b[1;32m----> 2\u001b[0m my_set \u001b[38;5;241m=\u001b[39m {\u001b[38;5;124m'\u001b[39m\u001b[38;5;124mA1\u001b[39m\u001b[38;5;124m'\u001b[39m,\u001b[38;5;124m'\u001b[39m\u001b[38;5;124mA2\u001b[39m\u001b[38;5;124m'\u001b[39m, \u001b[38;5;241m1\u001b[39m, \u001b[38;5;241m2\u001b[39m, [\u001b[38;5;124m'\u001b[39m\u001b[38;5;124mhello\u001b[39m\u001b[38;5;124m'\u001b[39m,\u001b[38;5;124m'\u001b[39m\u001b[38;5;124mworld\u001b[39m\u001b[38;5;124m'\u001b[39m]}\n",
      "\u001b[1;31mTypeError\u001b[0m: unhashable type: 'list'"
     ]
    }
   ],
   "source": [
    "# Try to add List in sets\n",
    "my_set = {'A1','A2', 1, 2, ['hello','world']}\n",
    "# unhashable list"
   ]
  },
  {
   "cell_type": "code",
   "execution_count": 58,
   "id": "4b977cca",
   "metadata": {},
   "outputs": [
    {
     "ename": "TypeError",
     "evalue": "unhashable type: 'dict'",
     "output_type": "error",
     "traceback": [
      "\u001b[1;31m---------------------------------------------------------------------------\u001b[0m",
      "\u001b[1;31mTypeError\u001b[0m                                 Traceback (most recent call last)",
      "Cell \u001b[1;32mIn[58], line 2\u001b[0m\n\u001b[0;32m      1\u001b[0m \u001b[38;5;66;03m# same with dict\u001b[39;00m\n\u001b[1;32m----> 2\u001b[0m my_set \u001b[38;5;241m=\u001b[39m {\u001b[38;5;124m'\u001b[39m\u001b[38;5;124mTony\u001b[39m\u001b[38;5;124m'\u001b[39m,\u001b[38;5;124m'\u001b[39m\u001b[38;5;124mWanda\u001b[39m\u001b[38;5;124m'\u001b[39m, \u001b[38;5;241m1\u001b[39m, \u001b[38;5;241m2\u001b[39m, {\u001b[38;5;124m'\u001b[39m\u001b[38;5;124mkey\u001b[39m\u001b[38;5;124m'\u001b[39m:\u001b[38;5;124m'\u001b[39m\u001b[38;5;124mvalue\u001b[39m\u001b[38;5;124m'\u001b[39m}}\n",
      "\u001b[1;31mTypeError\u001b[0m: unhashable type: 'dict'"
     ]
    }
   ],
   "source": [
    "# same with dict\n",
    "my_set = {'Tony','Wanda', 1, 2, {'key':'value'}}\n",
    "# Unhashable dict"
   ]
  },
  {
   "cell_type": "markdown",
   "id": "29b2684e",
   "metadata": {},
   "source": [
    "This operation is only applicable to Tupple bcoz it is immutable whereas dict & list are is not"
   ]
  },
  {
   "cell_type": "code",
   "execution_count": 59,
   "id": "6f656ee8",
   "metadata": {},
   "outputs": [
    {
     "data": {
      "text/plain": [
       "{(1, 'ayush', 3), 1, 2, 'Tony', 'Wanda'}"
      ]
     },
     "execution_count": 59,
     "metadata": {},
     "output_type": "execute_result"
    }
   ],
   "source": [
    "# with tupple it works\n",
    "tupple = (1,\"ayush\",3)\n",
    "my_set = {'Tony','Wanda', 1, 2, tupple}\n",
    "my_set"
   ]
  },
  {
   "cell_type": "markdown",
   "id": "a04e168a",
   "metadata": {},
   "source": [
    "**Check the value on Sets**"
   ]
  },
  {
   "cell_type": "code",
   "execution_count": 60,
   "id": "a3e25520",
   "metadata": {},
   "outputs": [
    {
     "data": {
      "text/plain": [
       "True"
      ]
     },
     "execution_count": 60,
     "metadata": {},
     "output_type": "execute_result"
    }
   ],
   "source": [
    "'Tony'  in my_set #case sensetive"
   ]
  },
  {
   "cell_type": "code",
   "execution_count": 61,
   "id": "20bfbe6b",
   "metadata": {},
   "outputs": [
    {
     "data": {
      "text/plain": [
       "{'AYush', 'Abhijeet', 'Harshal', 'Mohit'}"
      ]
     },
     "execution_count": 61,
     "metadata": {},
     "output_type": "execute_result"
    }
   ],
   "source": [
    "# add item\n",
    "names = {'AYush','Harshal',\"Mohit\"}\n",
    "names.add(\"Abhijeet\")\n",
    "names"
   ]
  },
  {
   "cell_type": "markdown",
   "id": "baae2229",
   "metadata": {},
   "source": [
    "**Union |(OR)** : all values including comman"
   ]
  },
  {
   "cell_type": "code",
   "execution_count": 62,
   "id": "e3347386",
   "metadata": {
    "scrolled": true
   },
   "outputs": [
    {
     "name": "stdout",
     "output_type": "stream",
     "text": [
      "{'Ayush', 'Harshal', 'Mohit'}\n",
      "{'e', 'm', 'n', 'a'}\n",
      "{'o', 's', 'r', 'c', 't', 'd', 'n', 'M', 'm', 'e', 'i', 'a'}\n"
     ]
    }
   ],
   "source": [
    "# we can have duplicates in list dict tupple \n",
    "# to make it set\n",
    "# let's have a list\n",
    "names = {'Ayush','Harshal',\"Mohit\",\"Ayush\",\"Harshal\",\"Harshal\",\"Mohit\"}\n",
    "updated_name = set(names)\n",
    "print(set(updated_name))\n",
    "print(set('name'))\n",
    "print(set(name))"
   ]
  },
  {
   "cell_type": "code",
   "execution_count": 63,
   "id": "f86627b2",
   "metadata": {},
   "outputs": [
    {
     "data": {
      "text/plain": [
       "{'A1', 'A2', 'A3', 'A4', 'A5', 'A6', 'A7', 'A8'}"
      ]
     },
     "execution_count": 63,
     "metadata": {},
     "output_type": "execute_result"
    }
   ],
   "source": [
    "# Obtain All Values from two Sets\n",
    "names = {'A1','A2','A3','A4',\"A5\"}\n",
    "more_names = {'A4', \"A5\",\"A6\",'A7', 'A8'}\n",
    "names | more_names # OR operator"
   ]
  },
  {
   "cell_type": "code",
   "execution_count": 64,
   "id": "bf808be0",
   "metadata": {},
   "outputs": [
    {
     "data": {
      "text/plain": [
       "{'A1', 'A2', 'A3', 'A4', 'A5', 'A6', 'A7', 'A8'}"
      ]
     },
     "execution_count": 64,
     "metadata": {},
     "output_type": "execute_result"
    }
   ],
   "source": [
    "# union of two sets (comman Values)\n",
    "names.union(more_names)\n",
    "# same results no need to pass union in sets"
   ]
  },
  {
   "cell_type": "code",
   "execution_count": 65,
   "id": "303a8c73",
   "metadata": {},
   "outputs": [
    {
     "data": {
      "text/plain": [
       "{'A1', 'A2', 'A3', 'A4', 'A5', 'A6'}"
      ]
     },
     "execution_count": 65,
     "metadata": {},
     "output_type": "execute_result"
    }
   ],
   "source": [
    "# set\n",
    "names = {'A1', 'A2', 'A3', 'A4'}\n",
    "# List\n",
    "more_names = ['A5','A2','A6','A4']\n",
    "\n",
    "names.union(more_names)\n",
    "# vice versa Error"
   ]
  },
  {
   "cell_type": "code",
   "execution_count": 66,
   "id": "1776a8fd",
   "metadata": {},
   "outputs": [
    {
     "ename": "TypeError",
     "evalue": "unsupported operand type(s) for |: 'set' and 'list'",
     "output_type": "error",
     "traceback": [
      "\u001b[1;31m---------------------------------------------------------------------------\u001b[0m",
      "\u001b[1;31mTypeError\u001b[0m                                 Traceback (most recent call last)",
      "Cell \u001b[1;32mIn[66], line 1\u001b[0m\n\u001b[1;32m----> 1\u001b[0m names \u001b[38;5;241m|\u001b[39m more_names\n",
      "\u001b[1;31mTypeError\u001b[0m: unsupported operand type(s) for |: 'set' and 'list'"
     ]
    }
   ],
   "source": [
    "names | more_names\n",
    "#Typerror: OR unsupported for lis"
   ]
  },
  {
   "cell_type": "code",
   "execution_count": 67,
   "id": "38781ac5",
   "metadata": {
    "scrolled": true
   },
   "outputs": [
    {
     "data": {
      "text/plain": [
       "{'A1', 'A10', 'A2', 'A3', 'A4', 'A5', 'A6', 'A7', 'A8', 'A9'}"
      ]
     },
     "execution_count": 67,
     "metadata": {},
     "output_type": "execute_result"
    }
   ],
   "source": [
    "# (OR) of two or more sets (Union Unsupported)\n",
    "names = {'A1','A2','A3','A4','A5'}\n",
    "more_names = {'A6', 'A2', 'A7', 'A4','A5'}\n",
    "even_more_names = {'A1', 'A8', 'A9', 'A10','A5'}\n",
    "\n",
    "names | more_names | even_more_names #got all uniquue values from all\n",
    "# names.union() # Unsupported\n"
   ]
  },
  {
   "cell_type": "code",
   "execution_count": 68,
   "id": "e099460c",
   "metadata": {},
   "outputs": [
    {
     "data": {
      "text/plain": [
       "{'A1', 'A10', 'A2', 'A3', 'A4', 'A5', 'A6', 'A7', 'A8', 'A9'}"
      ]
     },
     "execution_count": 68,
     "metadata": {},
     "output_type": "execute_result"
    }
   ],
   "source": [
    "# Union set to list (OR supported)\n",
    "names = {'A1','A2','A3','A4','A5'}\n",
    "more_names = ['A6', 'A2', 'A7', 'A4','A5']\n",
    "even_more_names = ['A1', 'A8', 'A9', 'A10','A5']\n",
    "\n",
    "names.union(more_names,even_more_names)\n",
    "# names | more_names | even_more_names #Unsupported"
   ]
  },
  {
   "cell_type": "markdown",
   "id": "5f1b65ea",
   "metadata": {},
   "source": [
    "**& (and)** : all comman value"
   ]
  },
  {
   "cell_type": "code",
   "execution_count": 69,
   "id": "3b216e00",
   "metadata": {},
   "outputs": [
    {
     "data": {
      "text/plain": [
       "{'A4', 'A5'}"
      ]
     },
     "execution_count": 69,
     "metadata": {},
     "output_type": "execute_result"
    }
   ],
   "source": [
    "names = {'A1','A2','A3','A4','A5'}\n",
    "more_names = {'A4', 'A5', 'A6', 'A7','A8'}\n",
    "even_more_names = {'A4', 'A5','A7', 'A8', 'A9', 'A10'}\n",
    "\n",
    "names & more_names & even_more_names # common in all"
   ]
  },
  {
   "cell_type": "code",
   "execution_count": 70,
   "id": "616e99d5",
   "metadata": {
    "scrolled": true
   },
   "outputs": [
    {
     "data": {
      "text/plain": [
       "{'A4', 'A5'}"
      ]
     },
     "execution_count": 70,
     "metadata": {},
     "output_type": "execute_result"
    }
   ],
   "source": [
    "names.intersection(more_names,even_more_names)"
   ]
  },
  {
   "cell_type": "code",
   "execution_count": 71,
   "id": "24fba0b8",
   "metadata": {},
   "outputs": [
    {
     "data": {
      "text/plain": [
       "{'A5'}"
      ]
     },
     "execution_count": 71,
     "metadata": {},
     "output_type": "execute_result"
    }
   ],
   "source": [
    "# add set and list\n",
    "names = {'A1','A2','A3','A4','A5'}\n",
    "more_names = ['A6', 'A2', 'A7', 'A4','A5']\n",
    "even_more_names = ['A1', 'A8', 'A9', 'A10','A5']\n",
    "\n",
    "# names & more_names # unsupported\n",
    "names.intersection(more_names,even_more_names)"
   ]
  },
  {
   "cell_type": "markdown",
   "id": "a485b35e",
   "metadata": {},
   "source": [
    "**-** : substract"
   ]
  },
  {
   "cell_type": "code",
   "execution_count": 72,
   "id": "7e407280",
   "metadata": {
    "scrolled": true
   },
   "outputs": [
    {
     "data": {
      "text/plain": [
       "{'A1', 'A3'}"
      ]
     },
     "execution_count": 72,
     "metadata": {},
     "output_type": "execute_result"
    }
   ],
   "source": [
    "names = {'A1','A2','A3','A4','A5'}\n",
    "more_names = {'A6', 'A2', 'A7', 'A4','A5'}\n",
    "\n",
    "names - more_names"
   ]
  },
  {
   "cell_type": "code",
   "execution_count": 77,
   "id": "2a848489",
   "metadata": {
    "scrolled": true
   },
   "outputs": [
    {
     "name": "stdout",
     "output_type": "stream",
     "text": [
      "{'A1', 'A2'}\n",
      "{'A1', 'A2'}\n"
     ]
    }
   ],
   "source": [
    "names = {'A1','A2','A3','A4','A5'}\n",
    "more_names = {'A3', 'A4' ,'A5', 'A6','A7'}\n",
    "even_more_names = {'A6', 'A7', 'A8', 'A9'}\n",
    "print(names - more_names - even_more_names)\n",
    "print(names.difference(more_names, even_more_names))"
   ]
  },
  {
   "cell_type": "markdown",
   "id": "e222540e",
   "metadata": {},
   "source": [
    "**symmetric_diffrence or ^ operator** : return unique excluding common"
   ]
  },
  {
   "cell_type": "code",
   "execution_count": 78,
   "id": "8d7271c5",
   "metadata": {
    "scrolled": true
   },
   "outputs": [
    {
     "data": {
      "text/plain": [
       "{'A1', 'A2', 'A5', 'A6'}"
      ]
     },
     "execution_count": 78,
     "metadata": {},
     "output_type": "execute_result"
    }
   ],
   "source": [
    "names = {'A1','A2','A3','A4'}\n",
    "more_names = {'A3', 'A4', 'A5', 'A6'}\n",
    "names ^ more_names\n",
    "# return value either in set but not in both \n",
    "# not include any common values"
   ]
  },
  {
   "cell_type": "code",
   "execution_count": 81,
   "id": "59273fe9",
   "metadata": {},
   "outputs": [
    {
     "data": {
      "text/plain": [
       "{'A1', 'A10', 'A2', 'A3', 'A6', 'A9'}"
      ]
     },
     "execution_count": 81,
     "metadata": {},
     "output_type": "execute_result"
    }
   ],
   "source": [
    "names = {'A1','A2','A3','A4','A5'}\n",
    "more_names = {'A4', 'A5', 'A6', 'A7','A8'}\n",
    "even_more_names = {'A7', 'A8', 'A9', 'A10'}\n",
    "names ^ more_names ^ even_more_names\n",
    "#exclude all common values\n",
    "# Here A5 is returned as A5^A5 = 0^A5 = A5\n"
   ]
  },
  {
   "cell_type": "code",
   "execution_count": 82,
   "id": "186da226",
   "metadata": {},
   "outputs": [
    {
     "data": {
      "text/plain": [
       "{'A1', 'A2', 'A3', 'A6', 'A7', 'A8'}"
      ]
     },
     "execution_count": 82,
     "metadata": {},
     "output_type": "execute_result"
    }
   ],
   "source": [
    "names.symmetric_difference(more_names)\n",
    "#  names.symmetric_difference(more_names,even_more_names) # only one attribute supported"
   ]
  },
  {
   "cell_type": "code",
   "execution_count": 83,
   "id": "61c91a4d",
   "metadata": {
    "scrolled": true
   },
   "outputs": [
    {
     "data": {
      "text/plain": [
       "{'A1', 'A2', 'A3', 'A6', 'A7', 'A8'}"
      ]
     },
     "execution_count": 83,
     "metadata": {},
     "output_type": "execute_result"
    }
   ],
   "source": [
    "names = {'A1','A2','A3','A4','A5'}\n",
    "more_names = ['A4', 'A5', 'A6', 'A7','A8']\n",
    "\n",
    "# All unique not common\n",
    "names.symmetric_difference(more_names)"
   ]
  },
  {
   "cell_type": "markdown",
   "id": "2fc2c871",
   "metadata": {},
   "source": [
    "**set having any Common Element**"
   ]
  },
  {
   "cell_type": "code",
   "execution_count": 84,
   "id": "829a19f8",
   "metadata": {},
   "outputs": [
    {
     "data": {
      "text/plain": [
       "False"
      ]
     },
     "execution_count": 84,
     "metadata": {},
     "output_type": "execute_result"
    }
   ],
   "source": [
    "# not common?\n",
    "names.isdisjoint(more_names)"
   ]
  },
  {
   "cell_type": "code",
   "execution_count": 85,
   "id": "cac65b7c",
   "metadata": {
    "scrolled": true
   },
   "outputs": [
    {
     "data": {
      "text/plain": [
       "True"
      ]
     },
     "execution_count": 85,
     "metadata": {},
     "output_type": "execute_result"
    }
   ],
   "source": [
    "# not commom?\n",
    "a1 = {'A1',\"A2\",'A3',\"A4\"}\n",
    "b1 = {'A5','A6',\"A7\"}\n",
    "a1.isdisjoint(b1)"
   ]
  },
  {
   "cell_type": "markdown",
   "id": "f59ac07d",
   "metadata": {},
   "source": [
    "**Remove from set**"
   ]
  },
  {
   "cell_type": "code",
   "execution_count": 93,
   "id": "405eb2a9",
   "metadata": {},
   "outputs": [
    {
     "name": "stdout",
     "output_type": "stream",
     "text": [
      "{'Peter', 'Tony', 'Steve', 'Natasha', 'Wanda'}\n",
      "{'Tony', 'Steve', 'Natasha', 'Wanda'}\n"
     ]
    }
   ],
   "source": [
    "names = {'Steve', 'Wanda', 'Peter', 'Tony', 'Natasha'}\n",
    "print(names)\n",
    "names.pop()\n",
    "print(names)"
   ]
  },
  {
   "cell_type": "code",
   "execution_count": 94,
   "id": "ffa7c27c",
   "metadata": {},
   "outputs": [
    {
     "data": {
      "text/plain": [
       "{'Steve', 'Tony', 'Wanda'}"
      ]
     },
     "execution_count": 94,
     "metadata": {},
     "output_type": "execute_result"
    }
   ],
   "source": [
    "names.remove('Natasha') \n",
    "names"
   ]
  },
  {
   "cell_type": "code",
   "execution_count": 95,
   "id": "f7598d6c",
   "metadata": {},
   "outputs": [
    {
     "data": {
      "text/plain": [
       "{'A2', 'A3', 'A4'}"
      ]
     },
     "execution_count": 95,
     "metadata": {},
     "output_type": "execute_result"
    }
   ],
   "source": [
    "a1 = {'A1',\"A2\",'A3',\"A4\"}\n",
    "a1.remove('A1')\n",
    "a1"
   ]
  },
  {
   "cell_type": "code",
   "execution_count": 96,
   "id": "c44d1e4f",
   "metadata": {},
   "outputs": [
    {
     "ename": "KeyError",
     "evalue": "'A5'",
     "output_type": "error",
     "traceback": [
      "\u001b[1;31m---------------------------------------------------------------------------\u001b[0m",
      "\u001b[1;31mKeyError\u001b[0m                                  Traceback (most recent call last)",
      "Cell \u001b[1;32mIn[96], line 2\u001b[0m\n\u001b[0;32m      1\u001b[0m \u001b[38;5;66;03m# we try and remove something from the set that isn’t in there (error)\u001b[39;00m\n\u001b[1;32m----> 2\u001b[0m a1\u001b[38;5;241m.\u001b[39mremove(\u001b[38;5;124m'\u001b[39m\u001b[38;5;124mA5\u001b[39m\u001b[38;5;124m'\u001b[39m)\n",
      "\u001b[1;31mKeyError\u001b[0m: 'A5'"
     ]
    }
   ],
   "source": [
    "# we try and remove something from the set that isn’t in there (error)\n",
    "a1.remove('A5')"
   ]
  },
  {
   "cell_type": "code",
   "execution_count": 99,
   "id": "c96707c3",
   "metadata": {},
   "outputs": [
    {
     "data": {
      "text/plain": [
       "{'A2', 'A4'}"
      ]
     },
     "execution_count": 99,
     "metadata": {},
     "output_type": "execute_result"
    }
   ],
   "source": [
    "# another way to do this is\n",
    "a1.discard('A5') # doesnot give Ket error\n",
    "a1.discard('A3')\n",
    "a1"
   ]
  },
  {
   "cell_type": "code",
   "execution_count": 100,
   "id": "b36d67f6",
   "metadata": {},
   "outputs": [
    {
     "data": {
      "text/plain": [
       "set()"
      ]
     },
     "execution_count": 100,
     "metadata": {},
     "output_type": "execute_result"
    }
   ],
   "source": [
    " \n",
    "a1.clear()\n",
    "a1"
   ]
  },
  {
   "cell_type": "markdown",
   "id": "a140d93c",
   "metadata": {},
   "source": [
    "**Add**"
   ]
  },
  {
   "cell_type": "code",
   "execution_count": 101,
   "id": "5e980ef8",
   "metadata": {},
   "outputs": [
    {
     "data": {
      "text/plain": [
       "{'A1', 'A2', 'A3', 'A4', 'A5'}"
      ]
     },
     "execution_count": 101,
     "metadata": {},
     "output_type": "execute_result"
    }
   ],
   "source": [
    "# adds one at atime\n",
    "names = {'A1','A2','A3','A4','A5'}\n",
    "names.add(\"A5\")\n",
    "names"
   ]
  },
  {
   "cell_type": "markdown",
   "id": "b656b868",
   "metadata": {},
   "source": [
    "| is same as .update"
   ]
  },
  {
   "cell_type": "code",
   "execution_count": 105,
   "id": "3de22559",
   "metadata": {},
   "outputs": [
    {
     "name": "stdout",
     "output_type": "stream",
     "text": [
      "{'A5', 'A4', 'A7', 'A6', 'A1', 'A8', 'A3', 'A2'}\n",
      "{'A1', 'A5', 'A2', 'A3', 'A4'}\n",
      "None\n",
      "{'A5', 'A4', 'A7', 'A6', 'A1', 'A8', 'A3', 'A2'}\n"
     ]
    }
   ],
   "source": [
    "# Multiple at a time\n",
    "names = {'A1','A2','A3','A4','A5'}\n",
    "more_names = {'A4', 'A5', 'A6', 'A7','A8'}\n",
    "\n",
    "print(names | more_names) #same\n",
    "print(names)\n",
    "names.update(more_names)\n",
    "print(names)"
   ]
  },
  {
   "cell_type": "markdown",
   "id": "6c7e2bc0",
   "metadata": {},
   "source": [
    "Keep in mind that the | operator creates a new set, while the update method modifies the set in place."
   ]
  },
  {
   "cell_type": "code",
   "execution_count": 106,
   "id": "fb84e8c9",
   "metadata": {
    "scrolled": true
   },
   "outputs": [
    {
     "name": "stdout",
     "output_type": "stream",
     "text": [
      "{'A4', 'A5'}\n"
     ]
    },
    {
     "data": {
      "text/plain": [
       "{'A4', 'A5'}"
      ]
     },
     "execution_count": 106,
     "metadata": {},
     "output_type": "execute_result"
    }
   ],
   "source": [
    "names = {'A1','A2','A3','A4','A5'}\n",
    "more_names = {'A4', 'A5', 'A6', 'A7','A8'}\n",
    "even_more_names = {'A7', 'A8', 'A9', 'A10'}\n",
    "\n",
    "print(names & more_names) #same (new set created)\n",
    "names.intersection_update(more_names)\n",
    "names\n"
   ]
  },
  {
   "cell_type": "code",
   "execution_count": 107,
   "id": "aff6e260",
   "metadata": {},
   "outputs": [
    {
     "data": {
      "text/plain": [
       "{'A4', 'A5'}"
      ]
     },
     "execution_count": 107,
     "metadata": {},
     "output_type": "execute_result"
    }
   ],
   "source": [
    "names # see .int_updt had updted the set in place"
   ]
  },
  {
   "cell_type": "markdown",
   "id": "e11f1ce3",
   "metadata": {},
   "source": [
    "**Experinments**"
   ]
  },
  {
   "cell_type": "code",
   "execution_count": 111,
   "id": "1721a3f4",
   "metadata": {},
   "outputs": [
    {
     "name": "stdout",
     "output_type": "stream",
     "text": [
      "{'s', 'y', 'u', 'h', 'a'}\n",
      "{'s', 'y', 'u', 'h', 'a'}\n",
      "{'e', 'm', 'n', 'a'}\n"
     ]
    }
   ],
   "source": [
    "name = \"ayush\"\n",
    "print(set('ayush'))\n",
    "print(set(name))\n",
    "print(set('name'))"
   ]
  },
  {
   "cell_type": "code",
   "execution_count": null,
   "id": "0b7fb0b8",
   "metadata": {},
   "outputs": [],
   "source": []
  }
 ],
 "metadata": {
  "kernelspec": {
   "display_name": "Python 3 (ipykernel)",
   "language": "python",
   "name": "python3"
  },
  "language_info": {
   "codemirror_mode": {
    "name": "ipython",
    "version": 3
   },
   "file_extension": ".py",
   "mimetype": "text/x-python",
   "name": "python",
   "nbconvert_exporter": "python",
   "pygments_lexer": "ipython3",
   "version": "3.11.4"
  }
 },
 "nbformat": 4,
 "nbformat_minor": 5
}
