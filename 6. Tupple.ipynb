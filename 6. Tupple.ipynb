{
 "cells": [
  {
   "cell_type": "markdown",
   "id": "70134d51",
   "metadata": {},
   "source": [
    "## 6. Tupple\n",
    "similar to list but having (_)\n",
    "\n",
    "it is immutable and unchangable"
   ]
  },
  {
   "cell_type": "code",
   "execution_count": 7,
   "id": "1d6f6719",
   "metadata": {
    "scrolled": true
   },
   "outputs": [
    {
     "data": {
      "text/plain": [
       "(1, 2, 2, 2, 5, 5, 7, 9, 9, 10)"
      ]
     },
     "execution_count": 7,
     "metadata": {},
     "output_type": "execute_result"
    }
   ],
   "source": [
    "x = (1, 2, 2, 2, 5, 5, 7, 9, 9, 10)\n",
    "x"
   ]
  },
  {
   "cell_type": "markdown",
   "id": "23f3e6e5",
   "metadata": {},
   "source": [
    "Having same operations as lists"
   ]
  },
  {
   "cell_type": "markdown",
   "id": "4677d4e0",
   "metadata": {},
   "source": [
    "### Slicing in Tupple"
   ]
  },
  {
   "cell_type": "code",
   "execution_count": 13,
   "id": "8c213c3c",
   "metadata": {},
   "outputs": [
    {
     "data": {
      "text/plain": [
       "10"
      ]
     },
     "execution_count": 13,
     "metadata": {},
     "output_type": "execute_result"
    }
   ],
   "source": [
    "x[-1]"
   ]
  },
  {
   "cell_type": "code",
   "execution_count": 14,
   "id": "1d3d5016",
   "metadata": {},
   "outputs": [
    {
     "data": {
      "text/plain": [
       "(1, 2, 2, 2, 5, 5, 7, 9, 9, 10)"
      ]
     },
     "execution_count": 14,
     "metadata": {},
     "output_type": "execute_result"
    }
   ],
   "source": [
    "x[:5]\n",
    "x"
   ]
  },
  {
   "cell_type": "code",
   "execution_count": 11,
   "id": "9d847622",
   "metadata": {},
   "outputs": [
    {
     "data": {
      "text/plain": [
       "10"
      ]
     },
     "execution_count": 11,
     "metadata": {},
     "output_type": "execute_result"
    }
   ],
   "source": [
    "len(x)"
   ]
  },
  {
   "cell_type": "code",
   "execution_count": 12,
   "id": "f6dab16a",
   "metadata": {},
   "outputs": [
    {
     "name": "stdout",
     "output_type": "stream",
     "text": [
      "9\n"
     ]
    }
   ],
   "source": [
    "print(x[len(x)-3])"
   ]
  },
  {
   "cell_type": "code",
   "execution_count": 16,
   "id": "de0e9df4",
   "metadata": {},
   "outputs": [
    {
     "name": "stdout",
     "output_type": "stream",
     "text": [
      "9\n"
     ]
    }
   ],
   "source": [
    "print(x[10-3])"
   ]
  },
  {
   "cell_type": "code",
   "execution_count": 17,
   "id": "e73e0d6b",
   "metadata": {},
   "outputs": [
    {
     "name": "stdout",
     "output_type": "stream",
     "text": [
      "9\n"
     ]
    }
   ],
   "source": [
    "print(x[7])"
   ]
  },
  {
   "cell_type": "code",
   "execution_count": 18,
   "id": "80eb4846",
   "metadata": {},
   "outputs": [
    {
     "name": "stdout",
     "output_type": "stream",
     "text": [
      "9\n",
      "9\n",
      "9\n"
     ]
    }
   ],
   "source": [
    "print(x[len(x)-3])\n",
    "print(x[10-3])\n",
    "print(x[7])"
   ]
  },
  {
   "cell_type": "code",
   "execution_count": null,
   "id": "53642821",
   "metadata": {},
   "outputs": [],
   "source": []
  }
 ],
 "metadata": {
  "kernelspec": {
   "display_name": "Python 3 (ipykernel)",
   "language": "python",
   "name": "python3"
  },
  "language_info": {
   "codemirror_mode": {
    "name": "ipython",
    "version": 3
   },
   "file_extension": ".py",
   "mimetype": "text/x-python",
   "name": "python",
   "nbconvert_exporter": "python",
   "pygments_lexer": "ipython3",
   "version": "3.11.4"
  }
 },
 "nbformat": 4,
 "nbformat_minor": 5
}
