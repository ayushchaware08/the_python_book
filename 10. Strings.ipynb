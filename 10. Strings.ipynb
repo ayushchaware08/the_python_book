{
 "cells": [
  {
   "cell_type": "markdown",
   "id": "17ed10ae",
   "metadata": {},
   "source": [
    "\n",
    "## Strings"
   ]
  },
  {
   "cell_type": "code",
   "execution_count": 1,
   "id": "f3a413ba",
   "metadata": {},
   "outputs": [],
   "source": [
    "# Initilize String (no diffrence bw '' & \" \")\n",
    "name = \"Ayush\"\n",
    "name = \"\"\"Ayush\"\"\"\n",
    "name = '''Ayush'''"
   ]
  },
  {
   "cell_type": "code",
   "execution_count": 2,
   "id": "4c9ece9d",
   "metadata": {},
   "outputs": [
    {
     "name": "stdout",
     "output_type": "stream",
     "text": [
      "My name is 'Ayush' \n",
      "My name is 'Ayush'\n"
     ]
    },
    {
     "data": {
      "text/plain": [
       "'My name is ayush\"'"
      ]
     },
     "execution_count": 2,
     "metadata": {},
     "output_type": "execute_result"
    }
   ],
   "source": [
    "# to use ' in string use Escape function\n",
    "name = 'My name is \\'Ayush\\' '\n",
    "print(name)\n",
    "name = \"My name is 'Ayush'\"\n",
    "print(name)\n",
    "name = \"\"\"My name is ayush\\\"\"\"\"\n",
    "name"
   ]
  },
  {
   "cell_type": "code",
   "execution_count": 3,
   "id": "ba58cbf8",
   "metadata": {},
   "outputs": [
    {
     "data": {
      "text/plain": [
       "'My name is\\n Ayush'"
      ]
     },
     "execution_count": 3,
     "metadata": {},
     "output_type": "execute_result"
    }
   ],
   "source": [
    "# benefit of tripple quote is we can write in multiple line\n",
    "name = \"\"\"My name is\n",
    " Ayush\"\"\"\n",
    "name"
   ]
  },
  {
   "cell_type": "markdown",
   "id": "c6fb7494",
   "metadata": {},
   "source": [
    "**Accessing String**"
   ]
  },
  {
   "cell_type": "code",
   "execution_count": 4,
   "id": "0a0eb680",
   "metadata": {},
   "outputs": [
    {
     "data": {
      "text/plain": [
       "'n'"
      ]
     },
     "execution_count": 4,
     "metadata": {},
     "output_type": "execute_result"
    }
   ],
   "source": [
    "name = \"Honey Bunny\"\n",
    "# name[index]\n",
    "name[2]"
   ]
  },
  {
   "cell_type": "code",
   "execution_count": 5,
   "id": "2b305f04",
   "metadata": {},
   "outputs": [
    {
     "data": {
      "text/plain": [
       "'Bunny'"
      ]
     },
     "execution_count": 5,
     "metadata": {},
     "output_type": "execute_result"
    }
   ],
   "source": [
    "name[6:13]"
   ]
  },
  {
   "cell_type": "code",
   "execution_count": 6,
   "id": "45510cc3",
   "metadata": {},
   "outputs": [
    {
     "data": {
      "text/plain": [
       "'Bunny'"
      ]
     },
     "execution_count": 6,
     "metadata": {},
     "output_type": "execute_result"
    }
   ],
   "source": [
    "name[-5:]"
   ]
  },
  {
   "cell_type": "code",
   "execution_count": 7,
   "id": "03a03da6",
   "metadata": {},
   "outputs": [
    {
     "data": {
      "text/plain": [
       "True"
      ]
     },
     "execution_count": 7,
     "metadata": {},
     "output_type": "execute_result"
    }
   ],
   "source": [
    "# if string contain character\n",
    "\"nny\" in name"
   ]
  },
  {
   "cell_type": "code",
   "execution_count": 8,
   "id": "6827d2fc",
   "metadata": {},
   "outputs": [
    {
     "data": {
      "text/plain": [
       "False"
      ]
     },
     "execution_count": 8,
     "metadata": {},
     "output_type": "execute_result"
    }
   ],
   "source": [
    "\"oey\" in name # need seq"
   ]
  },
  {
   "cell_type": "markdown",
   "id": "735369a2",
   "metadata": {},
   "source": [
    "#### Custom String Using Variable"
   ]
  },
  {
   "cell_type": "code",
   "execution_count": 9,
   "id": "4c0147b6",
   "metadata": {},
   "outputs": [
    {
     "data": {
      "text/plain": [
       "'first_name:Ayush,last_name:Chaware'"
      ]
     },
     "execution_count": 9,
     "metadata": {},
     "output_type": "execute_result"
    }
   ],
   "source": [
    "first_name = \"Ayush\"\n",
    "last_name = \"Chaware\"\n",
    "name = \"first_name:{},last_name:{}\".format(first_name,last_name)\n",
    "name"
   ]
  },
  {
   "cell_type": "markdown",
   "id": "e3d23424",
   "metadata": {},
   "source": [
    "**f-strings** are available in Python 3.6 and later versions.(often preffered)\n",
    "\n",
    "**.format()** is available in Python 2.7 and Python 3.x, making it more widely compatible across different Python versions."
   ]
  },
  {
   "cell_type": "code",
   "execution_count": 10,
   "id": "8497b0d9",
   "metadata": {},
   "outputs": [
    {
     "name": "stdout",
     "output_type": "stream",
     "text": [
      "my name is Ayush Chaware\n"
     ]
    }
   ],
   "source": [
    "print(f\"my name is {first_name} {last_name}\")"
   ]
  },
  {
   "cell_type": "markdown",
   "id": "bc9588f5",
   "metadata": {},
   "source": [
    "**Uppercase Lowercase**"
   ]
  },
  {
   "cell_type": "code",
   "execution_count": 11,
   "id": "b5404b3c",
   "metadata": {},
   "outputs": [
    {
     "data": {
      "text/plain": [
       "'ayush chaware'"
      ]
     },
     "execution_count": 11,
     "metadata": {},
     "output_type": "execute_result"
    }
   ],
   "source": [
    "name = \"Ayush Chaware\"\n",
    "name.lower()"
   ]
  },
  {
   "cell_type": "code",
   "execution_count": 12,
   "id": "771d9c72",
   "metadata": {},
   "outputs": [
    {
     "data": {
      "text/plain": [
       "'AYUSH CHAWARE'"
      ]
     },
     "execution_count": 12,
     "metadata": {},
     "output_type": "execute_result"
    }
   ],
   "source": [
    "name.upper()"
   ]
  },
  {
   "cell_type": "markdown",
   "id": "f62263f7",
   "metadata": {},
   "source": [
    "Splitting the String  \n",
    "\n",
    "**.split(\"from_where_you_to_seperete\")**"
   ]
  },
  {
   "cell_type": "code",
   "execution_count": 13,
   "id": "1b58e697",
   "metadata": {},
   "outputs": [
    {
     "data": {
      "text/plain": [
       "['Hello', 'my', 'name', 'is', 'Ayush', 'Chaware']"
      ]
     },
     "execution_count": 13,
     "metadata": {},
     "output_type": "execute_result"
    }
   ],
   "source": [
    "name = \"Hello my name is Ayush Chaware\"\n",
    "name.split(\" \")"
   ]
  },
  {
   "cell_type": "code",
   "execution_count": 14,
   "id": "8d4cd636",
   "metadata": {},
   "outputs": [
    {
     "data": {
      "text/plain": [
       "['he', 'llo M', 'y N', 'me i', 's AA']"
      ]
     },
     "execution_count": 14,
     "metadata": {},
     "output_type": "execute_result"
    }
   ],
   "source": [
    "name = \"heallo May Name ias AA\"\n",
    "name.split(\"a\")"
   ]
  },
  {
   "cell_type": "code",
   "execution_count": 15,
   "id": "b3ca3b3d",
   "metadata": {},
   "outputs": [
    {
     "name": "stdout",
     "output_type": "stream",
     "text": [
      "Ayush Chaware\n"
     ]
    }
   ],
   "source": [
    "name = \"Ayush Chaware\"\n",
    "first_name, last_name = name.split()\n",
    "print(first_name, last_name)"
   ]
  },
  {
   "cell_type": "code",
   "execution_count": 16,
   "id": "0c4644fb",
   "metadata": {},
   "outputs": [
    {
     "data": {
      "text/plain": [
       "['i', ' am', ' watching', ' cricket', ' match', '']"
      ]
     },
     "execution_count": 16,
     "metadata": {},
     "output_type": "execute_result"
    }
   ],
   "source": [
    "match = \"i. am. watching. cricket. match.\"\n",
    "match.split(\".\")"
   ]
  },
  {
   "cell_type": "code",
   "execution_count": 17,
   "id": "60263496",
   "metadata": {},
   "outputs": [
    {
     "data": {
      "text/plain": [
       "['India', ' Pakisthan', ' 2', ' 1']"
      ]
     },
     "execution_count": 17,
     "metadata": {},
     "output_type": "execute_result"
    }
   ],
   "source": [
    "# Suppose we have a cricket match where India hit 2 wicket whereas pak 1 wicket\n",
    "match_details = \"India, Pakisthan, 2, 1\"\n",
    "match_details.split(\",\")"
   ]
  },
  {
   "cell_type": "code",
   "execution_count": 18,
   "id": "c0e89834",
   "metadata": {},
   "outputs": [
    {
     "name": "stdout",
     "output_type": "stream",
     "text": [
      "India  Pakisthan\n"
     ]
    }
   ],
   "source": [
    "# var1, var2 = string.split(\",\")[slicing of string (must me 2 var)]\n",
    "# must contain i/p var = slicing ele\n",
    "Ind, pak =match_details.split(\",\")[0:2]\n",
    "print(Ind,pak)"
   ]
  },
  {
   "cell_type": "code",
   "execution_count": 19,
   "id": "cc1d7048",
   "metadata": {},
   "outputs": [
    {
     "name": "stdout",
     "output_type": "stream",
     "text": [
      " 2  1\n"
     ]
    }
   ],
   "source": [
    "ind_wik, pak_wik = match_details.split(\",\")[2:4]\n",
    "print(ind_wik,pak_wik)"
   ]
  },
  {
   "cell_type": "markdown",
   "id": "a0eb0755",
   "metadata": {},
   "source": [
    "**Replace**"
   ]
  },
  {
   "cell_type": "code",
   "execution_count": 20,
   "id": "42260d9e",
   "metadata": {},
   "outputs": [
    {
     "name": "stdout",
     "output_type": "stream",
     "text": [
      "India: Pakisthan: 2: 1\n"
     ]
    }
   ],
   "source": [
    "x = match_details.replace(\",\",\":\")\n",
    "print(x)"
   ]
  },
  {
   "cell_type": "markdown",
   "id": "53a73e5f",
   "metadata": {},
   "source": [
    "Another Method is **Join** : Change the seperator in string"
   ]
  },
  {
   "cell_type": "code",
   "execution_count": 21,
   "id": "98484c96",
   "metadata": {},
   "outputs": [
    {
     "data": {
      "text/plain": [
       "'India,Pakisthan,2,1'"
      ]
     },
     "execution_count": 21,
     "metadata": {},
     "output_type": "execute_result"
    }
   ],
   "source": [
    "# List ele to CSV\n",
    "match_details = ['India', 'Pakisthan', '2', '1']\n",
    "joined_details = ','.join(match_details)\n",
    "joined_details"
   ]
  },
  {
   "cell_type": "code",
   "execution_count": 22,
   "id": "bd198c9c",
   "metadata": {},
   "outputs": [
    {
     "data": {
      "text/plain": [
       "4"
      ]
     },
     "execution_count": 22,
     "metadata": {},
     "output_type": "execute_result"
    }
   ],
   "source": [
    "len(match_details)"
   ]
  },
  {
   "cell_type": "code",
   "execution_count": 23,
   "id": "86c23a4d",
   "metadata": {},
   "outputs": [
    {
     "data": {
      "text/plain": [
       "22"
      ]
     },
     "execution_count": 23,
     "metadata": {},
     "output_type": "execute_result"
    }
   ],
   "source": [
    "match_details = \"India, Pakisthan, 2, 1\"\n",
    "len(match_details)"
   ]
  },
  {
   "cell_type": "code",
   "execution_count": 62,
   "id": "684774ed",
   "metadata": {},
   "outputs": [
    {
     "data": {
      "text/plain": [
       "'ayush,GDSC\\nAbhijeet,IEEECS\\nMohit,IEEECIS\\nHarshal,IEEECS\\n'"
      ]
     },
     "execution_count": 62,
     "metadata": {},
     "output_type": "execute_result"
    }
   ],
   "source": [
    "names = \"ayush,GDSC\\nAbhijeet,IEEECS\\nMohit,IEEECIS\\nHarshal,IEEECS\\n\"\n",
    "names"
   ]
  },
  {
   "cell_type": "code",
   "execution_count": 63,
   "id": "0264b157",
   "metadata": {},
   "outputs": [
    {
     "data": {
      "text/plain": [
       "['ayush,GDSC', 'Abhijeet,IEEECS', 'Mohit,IEEECIS', 'Harshal,IEEECS', '']"
      ]
     },
     "execution_count": 63,
     "metadata": {},
     "output_type": "execute_result"
    }
   ],
   "source": [
    "names = names.split(\"\\n\")\n",
    "names"
   ]
  },
  {
   "cell_type": "code",
   "execution_count": 56,
   "id": "cd61427b",
   "metadata": {},
   "outputs": [],
   "source": [
    "for n in names:\n",
    "    row = n.split(\",\")\n",
    "    row"
   ]
  },
  {
   "cell_type": "code",
   "execution_count": 65,
   "id": "6f1f3232",
   "metadata": {},
   "outputs": [
    {
     "data": {
      "text/plain": [
       "[['ayush', 'GDSC'],\n",
       " ['Abhijeet', 'IEEECS'],\n",
       " ['Mohit', 'IEEECIS'],\n",
       " ['Harshal', 'IEEECS']]"
      ]
     },
     "execution_count": 65,
     "metadata": {},
     "output_type": "execute_result"
    }
   ],
   "source": [
    "names = \"ayush,GDSC\\nAbhijeet,IEEECS\\nMohit,IEEECIS\\nHarshal,IEEECS\\n\"\n",
    "sep = names.split()\n",
    "list = [n.split(\",\") for n in sep]\n",
    "list"
   ]
  },
  {
   "cell_type": "code",
   "execution_count": null,
   "id": "55ee63df",
   "metadata": {},
   "outputs": [],
   "source": []
  },
  {
   "cell_type": "code",
   "execution_count": null,
   "id": "3a3a71c2",
   "metadata": {},
   "outputs": [],
   "source": []
  }
 ],
 "metadata": {
  "kernelspec": {
   "display_name": "Python 3 (ipykernel)",
   "language": "python",
   "name": "python3"
  },
  "language_info": {
   "codemirror_mode": {
    "name": "ipython",
    "version": 3
   },
   "file_extension": ".py",
   "mimetype": "text/x-python",
   "name": "python",
   "nbconvert_exporter": "python",
   "pygments_lexer": "ipython3",
   "version": "3.11.4"
  }
 },
 "nbformat": 4,
 "nbformat_minor": 5
}
