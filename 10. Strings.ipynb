{
 "cells": [
  {
   "cell_type": "markdown",
   "id": "17ed10ae",
   "metadata": {},
   "source": [
    "\n",
    "## Strings"
   ]
  },
  {
   "cell_type": "code",
   "execution_count": 38,
   "id": "f3a413ba",
   "metadata": {},
   "outputs": [],
   "source": [
    "# Initilize String (no diffrence bw '' & \" \")\n",
    "name = \"Ayush\"\n",
    "name = \"\"\"Ayush\"\"\"\n",
    "name = '''Ayush'''"
   ]
  },
  {
   "cell_type": "code",
   "execution_count": 39,
   "id": "4c9ece9d",
   "metadata": {},
   "outputs": [
    {
     "name": "stdout",
     "output_type": "stream",
     "text": [
      "My name is 'Ayush' \n",
      "My name is 'Ayush'\n"
     ]
    },
    {
     "data": {
      "text/plain": [
       "'My name is ayush\"'"
      ]
     },
     "execution_count": 39,
     "metadata": {},
     "output_type": "execute_result"
    }
   ],
   "source": [
    "# to use ' in string use Escape function\n",
    "name = 'My name is \\'Ayush\\' '\n",
    "print(name)\n",
    "name = \"My name is 'Ayush'\"\n",
    "print(name)\n",
    "name = \"\"\"My name is ayush\\\"\"\"\"\n",
    "name"
   ]
  },
  {
   "cell_type": "code",
   "execution_count": 30,
   "id": "ba58cbf8",
   "metadata": {},
   "outputs": [
    {
     "data": {
      "text/plain": [
       "'My name is\\n Ayush'"
      ]
     },
     "execution_count": 30,
     "metadata": {},
     "output_type": "execute_result"
    }
   ],
   "source": [
    "# benefit of tripple quote is we can write in multiple line\n",
    "name = \"\"\"My name is\n",
    " Ayush\"\"\"\n",
    "name"
   ]
  },
  {
   "cell_type": "markdown",
   "id": "c6fb7494",
   "metadata": {},
   "source": [
    "**Accessing String**"
   ]
  },
  {
   "cell_type": "code",
   "execution_count": 31,
   "id": "0a0eb680",
   "metadata": {},
   "outputs": [
    {
     "data": {
      "text/plain": [
       "'n'"
      ]
     },
     "execution_count": 31,
     "metadata": {},
     "output_type": "execute_result"
    }
   ],
   "source": [
    "name = \"Honey Bunny\"\n",
    "# name[index]\n",
    "name[2]"
   ]
  },
  {
   "cell_type": "code",
   "execution_count": 32,
   "id": "2b305f04",
   "metadata": {},
   "outputs": [
    {
     "data": {
      "text/plain": [
       "'Bunny'"
      ]
     },
     "execution_count": 32,
     "metadata": {},
     "output_type": "execute_result"
    }
   ],
   "source": [
    "name[6:13]"
   ]
  },
  {
   "cell_type": "code",
   "execution_count": 33,
   "id": "45510cc3",
   "metadata": {},
   "outputs": [
    {
     "data": {
      "text/plain": [
       "'Bunny'"
      ]
     },
     "execution_count": 33,
     "metadata": {},
     "output_type": "execute_result"
    }
   ],
   "source": [
    "name[-5:]"
   ]
  },
  {
   "cell_type": "code",
   "execution_count": 34,
   "id": "03a03da6",
   "metadata": {},
   "outputs": [
    {
     "data": {
      "text/plain": [
       "True"
      ]
     },
     "execution_count": 34,
     "metadata": {},
     "output_type": "execute_result"
    }
   ],
   "source": [
    "# if string contain character\n",
    "\"nny\" in name"
   ]
  },
  {
   "cell_type": "code",
   "execution_count": 40,
   "id": "6827d2fc",
   "metadata": {},
   "outputs": [
    {
     "data": {
      "text/plain": [
       "False"
      ]
     },
     "execution_count": 40,
     "metadata": {},
     "output_type": "execute_result"
    }
   ],
   "source": [
    "\"oey\" in name # need seq"
   ]
  },
  {
   "cell_type": "markdown",
   "id": "735369a2",
   "metadata": {},
   "source": [
    "#### Custom String"
   ]
  },
  {
   "cell_type": "code",
   "execution_count": 44,
   "id": "4c0147b6",
   "metadata": {},
   "outputs": [
    {
     "data": {
      "text/plain": [
       "'first_name:Ayush,last_name:Chaware'"
      ]
     },
     "execution_count": 44,
     "metadata": {},
     "output_type": "execute_result"
    }
   ],
   "source": [
    "first_name = \"Ayush\"\n",
    "last_name = \"Chaware\"\n",
    "name = \"first_name:{},last_name:{}\".format(first_name,last_name)\n",
    "name"
   ]
  },
  {
   "cell_type": "code",
   "execution_count": null,
   "id": "8497b0d9",
   "metadata": {},
   "outputs": [],
   "source": []
  },
  {
   "cell_type": "code",
   "execution_count": null,
   "id": "88a7e470",
   "metadata": {},
   "outputs": [],
   "source": []
  }
 ],
 "metadata": {
  "kernelspec": {
   "display_name": "Python 3 (ipykernel)",
   "language": "python",
   "name": "python3"
  },
  "language_info": {
   "codemirror_mode": {
    "name": "ipython",
    "version": 3
   },
   "file_extension": ".py",
   "mimetype": "text/x-python",
   "name": "python",
   "nbconvert_exporter": "python",
   "pygments_lexer": "ipython3",
   "version": "3.11.4"
  }
 },
 "nbformat": 4,
 "nbformat_minor": 5
}
