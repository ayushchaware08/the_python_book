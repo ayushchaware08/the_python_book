{
 "cells": [
  {
   "cell_type": "markdown",
   "id": "3bcc4df0",
   "metadata": {},
   "source": [
    "# The Python Book"
   ]
  },
  {
   "cell_type": "markdown",
   "id": "33b096b6",
   "metadata": {},
   "source": [
    "**Data Types**\n",
    "\n",
    "\n",
    "1. Text Type: str\n",
    "\n",
    "2. Numeric Types: int, float, complex\n",
    "\n",
    "3. Sequence Types: list, tuple, range\n",
    "\n",
    "4. Mapping Type: dict\n",
    "\n",
    "5. Set Types: set, frozenset\n",
    "\n",
    "6. Boolean Type: bool\n",
    "\n",
    "7. Binary Types: bytes, bytearray, memoryview\n",
    "\n",
    "8. None Type: NoneType"
   ]
  },
  {
   "cell_type": "markdown",
   "id": "5bc375ec",
   "metadata": {},
   "source": [
    "## List [--]"
   ]
  },
  {
   "cell_type": "markdown",
   "id": "8329750d",
   "metadata": {},
   "source": [
    "## Tupple (--)\n"
   ]
  },
  {
   "cell_type": "markdown",
   "id": "16fc982c",
   "metadata": {},
   "source": [
    "## sets {'--'}\n"
   ]
  },
  {
   "cell_type": "markdown",
   "id": "300684eb",
   "metadata": {},
   "source": [
    "## Dictionary {'key':\"value\",...}\n",
    "Mapping type"
   ]
  },
  {
   "cell_type": "markdown",
   "id": "da33a0cc",
   "metadata": {},
   "source": []
  }
 ],
 "metadata": {
  "kernelspec": {
   "display_name": "Python 3 (ipykernel)",
   "language": "python",
   "name": "python3"
  },
  "language_info": {
   "codemirror_mode": {
    "name": "ipython",
    "version": 3
   },
   "file_extension": ".py",
   "mimetype": "text/x-python",
   "name": "python",
   "nbconvert_exporter": "python",
   "pygments_lexer": "ipython3",
   "version": "3.11.4"
  }
 },
 "nbformat": 4,
 "nbformat_minor": 5
}
