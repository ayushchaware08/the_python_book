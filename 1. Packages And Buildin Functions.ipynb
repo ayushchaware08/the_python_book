{
 "cells": [
  {
   "cell_type": "markdown",
   "id": "be879628",
   "metadata": {},
   "source": [
    "## Package and BuildIn Functions"
   ]
  },
  {
   "cell_type": "code",
   "execution_count": 1,
   "id": "919d27ae",
   "metadata": {},
   "outputs": [],
   "source": [
    "name = \"Ayush\""
   ]
  },
  {
   "cell_type": "code",
   "execution_count": 3,
   "id": "92c7119a",
   "metadata": {},
   "outputs": [
    {
     "data": {
      "text/plain": [
       "['__add__',\n",
       " '__class__',\n",
       " '__contains__',\n",
       " '__delattr__',\n",
       " '__dir__',\n",
       " '__doc__',\n",
       " '__eq__',\n",
       " '__format__',\n",
       " '__ge__',\n",
       " '__getattribute__',\n",
       " '__getitem__',\n",
       " '__getnewargs__',\n",
       " '__getstate__',\n",
       " '__gt__',\n",
       " '__hash__',\n",
       " '__init__',\n",
       " '__init_subclass__',\n",
       " '__iter__',\n",
       " '__le__',\n",
       " '__len__',\n",
       " '__lt__',\n",
       " '__mod__',\n",
       " '__mul__',\n",
       " '__ne__',\n",
       " '__new__',\n",
       " '__reduce__',\n",
       " '__reduce_ex__',\n",
       " '__repr__',\n",
       " '__rmod__',\n",
       " '__rmul__',\n",
       " '__setattr__',\n",
       " '__sizeof__',\n",
       " '__str__',\n",
       " '__subclasshook__',\n",
       " 'capitalize',\n",
       " 'casefold',\n",
       " 'center',\n",
       " 'count',\n",
       " 'encode',\n",
       " 'endswith',\n",
       " 'expandtabs',\n",
       " 'find',\n",
       " 'format',\n",
       " 'format_map',\n",
       " 'index',\n",
       " 'isalnum',\n",
       " 'isalpha',\n",
       " 'isascii',\n",
       " 'isdecimal',\n",
       " 'isdigit',\n",
       " 'isidentifier',\n",
       " 'islower',\n",
       " 'isnumeric',\n",
       " 'isprintable',\n",
       " 'isspace',\n",
       " 'istitle',\n",
       " 'isupper',\n",
       " 'join',\n",
       " 'ljust',\n",
       " 'lower',\n",
       " 'lstrip',\n",
       " 'maketrans',\n",
       " 'partition',\n",
       " 'removeprefix',\n",
       " 'removesuffix',\n",
       " 'replace',\n",
       " 'rfind',\n",
       " 'rindex',\n",
       " 'rjust',\n",
       " 'rpartition',\n",
       " 'rsplit',\n",
       " 'rstrip',\n",
       " 'split',\n",
       " 'splitlines',\n",
       " 'startswith',\n",
       " 'strip',\n",
       " 'swapcase',\n",
       " 'title',\n",
       " 'translate',\n",
       " 'upper',\n",
       " 'zfill']"
      ]
     },
     "execution_count": 3,
     "metadata": {},
     "output_type": "execute_result"
    }
   ],
   "source": [
    "# dir_() of that object giving us the attributes of the object.\n",
    "dir(name)"
   ]
  },
  {
   "cell_type": "code",
   "execution_count": 5,
   "id": "d19d7ff4",
   "metadata": {},
   "outputs": [
    {
     "data": {
      "text/plain": [
       "5"
      ]
     },
     "execution_count": 5,
     "metadata": {},
     "output_type": "execute_result"
    }
   ],
   "source": [
    "# Length\n",
    "len(name)"
   ]
  },
  {
   "cell_type": "code",
   "execution_count": 6,
   "id": "f63b1b56",
   "metadata": {},
   "outputs": [
    {
     "data": {
      "text/plain": [
       "['A', 'y', 'u', 's', 'h']"
      ]
     },
     "execution_count": 6,
     "metadata": {},
     "output_type": "execute_result"
    }
   ],
   "source": [
    "# List\n",
    "list(name)"
   ]
  },
  {
   "cell_type": "code",
   "execution_count": 12,
   "id": "41152766",
   "metadata": {},
   "outputs": [
    {
     "data": {
      "text/plain": [
       "8"
      ]
     },
     "execution_count": 12,
     "metadata": {},
     "output_type": "execute_result"
    }
   ],
   "source": [
    "# max value\n",
    "x = [1,8,5,7,2]\n",
    "max(x)"
   ]
  },
  {
   "cell_type": "code",
   "execution_count": 14,
   "id": "16e80c67",
   "metadata": {},
   "outputs": [
    {
     "data": {
      "text/plain": [
       "'a'"
      ]
     },
     "execution_count": 14,
     "metadata": {},
     "output_type": "execute_result"
    }
   ],
   "source": [
    "name1 = ['a', 'y', 'u', 's', 'h']\n",
    "min(name1)"
   ]
  },
  {
   "cell_type": "code",
   "execution_count": 19,
   "id": "aa719d78",
   "metadata": {},
   "outputs": [
    {
     "data": {
      "text/plain": [
       "1.6"
      ]
     },
     "execution_count": 19,
     "metadata": {},
     "output_type": "execute_result"
    }
   ],
   "source": [
    "# round(var,after_dec_dig): Rounds the number to a specified precision\n",
    "y = 1.58\n",
    "round(y,1)"
   ]
  },
  {
   "cell_type": "code",
   "execution_count": 24,
   "id": "f3ab7799",
   "metadata": {},
   "outputs": [
    {
     "data": {
      "text/plain": [
       "float"
      ]
     },
     "execution_count": 24,
     "metadata": {},
     "output_type": "execute_result"
    }
   ],
   "source": [
    "# Returns the type of an object\n",
    "type(y)\n",
    "# type(name)"
   ]
  },
  {
   "cell_type": "code",
   "execution_count": 27,
   "id": "4b419842",
   "metadata": {},
   "outputs": [
    {
     "data": {
      "text/plain": [
       "5.845"
      ]
     },
     "execution_count": 27,
     "metadata": {},
     "output_type": "execute_result"
    }
   ],
   "source": [
    "# Returns the absolute value of a numeric value passed in\n",
    "z = -5.845\n",
    "abs(z)"
   ]
  },
  {
   "cell_type": "code",
   "execution_count": null,
   "id": "a85fced7",
   "metadata": {},
   "outputs": [],
   "source": [
    "# access to the Python help system\n",
    "help(name)"
   ]
  },
  {
   "cell_type": "code",
   "execution_count": 38,
   "id": "4f8163cb",
   "metadata": {},
   "outputs": [
    {
     "data": {
      "text/plain": [
       "'1.58'"
      ]
     },
     "execution_count": 38,
     "metadata": {},
     "output_type": "execute_result"
    }
   ],
   "source": [
    "# Converts the object to type string\n",
    "str(y)"
   ]
  },
  {
   "cell_type": "markdown",
   "id": "e203866b",
   "metadata": {},
   "source": [
    "**Accessing/Importing Data Packages**\n",
    "\n",
    "Default as well as Third Party Packages"
   ]
  },
  {
   "cell_type": "code",
   "execution_count": 31,
   "id": "00149555",
   "metadata": {},
   "outputs": [],
   "source": [
    "# Default Package\n",
    "import datetime"
   ]
  },
  {
   "cell_type": "code",
   "execution_count": 34,
   "id": "8f965530",
   "metadata": {},
   "outputs": [
    {
     "data": {
      "text/plain": [
       "['MAXYEAR',\n",
       " 'MINYEAR',\n",
       " 'UTC',\n",
       " '__all__',\n",
       " '__builtins__',\n",
       " '__cached__',\n",
       " '__doc__',\n",
       " '__file__',\n",
       " '__loader__',\n",
       " '__name__',\n",
       " '__package__',\n",
       " '__spec__',\n",
       " 'date',\n",
       " 'datetime',\n",
       " 'datetime_CAPI',\n",
       " 'sys',\n",
       " 'time',\n",
       " 'timedelta',\n",
       " 'timezone',\n",
       " 'tzinfo']"
      ]
     },
     "execution_count": 34,
     "metadata": {},
     "output_type": "execute_result"
    }
   ],
   "source": [
    "# to access the attributes of object\n",
    "dir(datetime)"
   ]
  },
  {
   "cell_type": "code",
   "execution_count": 35,
   "id": "c77d29d2",
   "metadata": {},
   "outputs": [
    {
     "data": {
      "text/plain": [
       "9999"
      ]
     },
     "execution_count": 35,
     "metadata": {},
     "output_type": "execute_result"
    }
   ],
   "source": [
    "# To see the what the attributes are, we use dot\n",
    "datetime.MAXYEAR"
   ]
  },
  {
   "cell_type": "code",
   "execution_count": 39,
   "id": "a49e2f64",
   "metadata": {},
   "outputs": [],
   "source": [
    "# to Import specific Part of the Package\n",
    "from datetime import date\n",
    "# from package datetime import specific Date attribute\n",
    "# now every time when we want to use date we have to call Date"
   ]
  },
  {
   "cell_type": "code",
   "execution_count": null,
   "id": "332f1187",
   "metadata": {},
   "outputs": [],
   "source": [
    "# we can give the import an alias which can reduce Code \n",
    "from datetime import date as d"
   ]
  }
 ],
 "metadata": {
  "kernelspec": {
   "display_name": "Python 3 (ipykernel)",
   "language": "python",
   "name": "python3"
  },
  "language_info": {
   "codemirror_mode": {
    "name": "ipython",
    "version": 3
   },
   "file_extension": ".py",
   "mimetype": "text/x-python",
   "name": "python",
   "nbconvert_exporter": "python",
   "pygments_lexer": "ipython3",
   "version": "3.11.4"
  }
 },
 "nbformat": 4,
 "nbformat_minor": 5
}
