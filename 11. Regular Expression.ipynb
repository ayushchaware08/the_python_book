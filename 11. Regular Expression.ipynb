{
 "cells": [
  {
   "cell_type": "markdown",
   "id": "a757520f",
   "metadata": {},
   "source": [
    "## 11. Regular Expession\n",
    "Extension to deal wirh string is RE"
   ]
  },
  {
   "cell_type": "code",
   "execution_count": 4,
   "id": "610495b9",
   "metadata": {},
   "outputs": [],
   "source": [
    "import re"
   ]
  },
  {
   "cell_type": "code",
   "execution_count": 7,
   "id": "4ec99986",
   "metadata": {},
   "outputs": [
    {
     "data": {
      "text/plain": [
       "['a', 'a', 'm', 'e', 'i', 'h']"
      ]
     },
     "execution_count": 7,
     "metadata": {},
     "output_type": "execute_result"
    }
   ],
   "source": [
    "# Find all the character from a - m \n",
    "name = \"My a name is Ayush\"\n",
    "# pass a string containg a-m \n",
    "x = re.findall(\"[a-m]\",name)\n",
    "x"
   ]
  },
  {
   "cell_type": "code",
   "execution_count": 12,
   "id": "8b26f40e",
   "metadata": {},
   "outputs": [
    {
     "name": "stdout",
     "output_type": "stream",
     "text": [
      "['1', '2', '3', '3', '4']\n",
      "['1', '2', '3', '3', '4']\n"
     ]
    }
   ],
   "source": [
    "# fing int value 0-9\n",
    "\n",
    "# METHOD 1 (|d) : Shorthand character class that represents any digit (0-9)\n",
    "x = 'we have to find num 1, 2, 3, 3, 4'\n",
    "x = re.findall(\"\\d\",x)\n",
    "print(x)\n",
    "\n",
    "# METHOD 2 :\n",
    "x = 'ayz12334qyuw'\n",
    "x = re.findall(\"[0-9]\",x)\n",
    "print(x)\n",
    "\n",
    "# Both are Same just a alternative just |d is shorthand alternatibe of [0-9]"
   ]
  },
  {
   "cell_type": "markdown",
   "id": "6b8f1154",
   "metadata": {},
   "source": [
    "see here \n",
    "\n",
    "**he..0** means word starting with **he** end with **o** and .. means must have **two letter** b/w them"
   ]
  },
  {
   "cell_type": "code",
   "execution_count": 14,
   "id": "e0c29f39",
   "metadata": {},
   "outputs": [
    {
     "data": {
      "text/plain": [
       "['hello', 'heeoo']"
      ]
     },
     "execution_count": 14,
     "metadata": {},
     "output_type": "execute_result"
    }
   ],
   "source": [
    "x  = \"hello heeoo heyya heello honao\"\n",
    "re.findall(\"he..o\",x)"
   ]
  },
  {
   "cell_type": "markdown",
   "id": "adcf4720",
   "metadata": {},
   "source": [
    "Search specific start of the string ^"
   ]
  },
  {
   "cell_type": "code",
   "execution_count": 27,
   "id": "725b2027",
   "metadata": {
    "scrolled": true
   },
   "outputs": [
    {
     "name": "stdout",
     "output_type": "stream",
     "text": [
      "[]\n",
      "[]\n",
      "[]\n"
     ]
    }
   ],
   "source": [
    "txt = 'start at begining'\n",
    "print(re.findall(\"^start\",txt))\n",
    "\n",
    "txt = 'middle start hai'\n",
    "print(re.findall(\"^start\",txt))\n",
    "\n",
    "txt = 'end with start'\n",
    "print(re.findall(\"^start\",txt))"
   ]
  },
  {
   "cell_type": "markdown",
   "id": "0463e1af",
   "metadata": {},
   "source": [
    "Search specific end of the string  $"
   ]
  },
  {
   "cell_type": "code",
   "execution_count": 24,
   "id": "8807b493",
   "metadata": {},
   "outputs": [
    {
     "name": "stdout",
     "output_type": "stream",
     "text": [
      "[]\n",
      "[]\n",
      "['start']\n"
     ]
    }
   ],
   "source": [
    "txt = 'start at begining'\n",
    "print(re.findall(\"start$\",txt))\n",
    "\n",
    "txt = 'middle start hai'\n",
    "print(re.findall(\"start$\",txt))\n",
    "\n",
    "txt = 'end with start'\n",
    "print(re.findall(\"start$\",txt))"
   ]
  },
  {
   "cell_type": "markdown",
   "id": "2cf0a19a",
   "metadata": {},
   "source": [
    "Look for all instances \"_ _x*\""
   ]
  },
  {
   "cell_type": "markdown",
   "id": "00e648df",
   "metadata": {},
   "source": [
    "*   '*' zero or more occurrences of the preceding character \n",
    "\n",
    "+    '+' your expression must contain \"aix+\" "
   ]
  },
  {
   "cell_type": "code",
   "execution_count": 37,
   "id": "28dd790c",
   "metadata": {
    "scrolled": true
   },
   "outputs": [
    {
     "data": {
      "text/plain": [
       "['ai', 'ai', 'aix', 'aixx', 'aixxx']"
      ]
     },
     "execution_count": 37,
     "metadata": {},
     "output_type": "execute_result"
    }
   ],
   "source": [
    "# Fin\n",
    "txt = 'a aii ai aix aixx aixxx'\n",
    "re.findall(\"aix*\",txt)"
   ]
  },
  {
   "cell_type": "code",
   "execution_count": 36,
   "id": "486bd49a",
   "metadata": {
    "scrolled": true
   },
   "outputs": [
    {
     "data": {
      "text/plain": [
       "['aix', 'aixx', 'aixxx']"
      ]
     },
     "execution_count": 36,
     "metadata": {},
     "output_type": "execute_result"
    }
   ],
   "source": [
    "txt = 'aii ai aix aixx aixxx'\n",
    "re.findall(\"aix+\", txt)"
   ]
  },
  {
   "cell_type": "code",
   "execution_count": 38,
   "id": "d8924d41",
   "metadata": {},
   "outputs": [
    {
     "data": {
      "text/plain": [
       "['moo', 'moo', 'moo']"
      ]
     },
     "execution_count": 38,
     "metadata": {},
     "output_type": "execute_result"
    }
   ],
   "source": [
    "txt = 'mo moo mooo moooo'\n",
    "re.findall(\"mo{2}\",txt)"
   ]
  },
  {
   "cell_type": "markdown",
   "id": "2344b349",
   "metadata": {},
   "source": [
    "| symbol"
   ]
  },
  {
   "cell_type": "code",
   "execution_count": 43,
   "id": "627759aa",
   "metadata": {},
   "outputs": [
    {
     "name": "stdout",
     "output_type": "stream",
     "text": [
      "['heroes']\n",
      "['Avengers', 'heroes', 'Avengers']\n"
     ]
    }
   ],
   "source": [
    "txt = \"The Avengers are earths mightiest heroes Avengers\"\n",
    "print(re.findall(\"avengers|heroes\", txt))\n",
    "print(re.findall(\"Avengers|heroes\", txt))"
   ]
  },
  {
   "cell_type": "markdown",
   "id": "bcbf17be",
   "metadata": {},
   "source": [
    "#### **to return White spaces i.e spaces**"
   ]
  },
  {
   "cell_type": "code",
   "execution_count": 50,
   "id": "64ce9b64",
   "metadata": {},
   "outputs": [
    {
     "data": {
      "text/plain": [
       "[' ', ' ', ' ', ' ', ' ', ' ']"
      ]
     },
     "execution_count": 50,
     "metadata": {},
     "output_type": "execute_result"
    }
   ],
   "source": [
    "txt = \"The Avengers are earths mightiest heroes Avengers\"\n",
    "re.findall(\"\\s\",txt)"
   ]
  },
  {
   "cell_type": "markdown",
   "id": "7309a1b1",
   "metadata": {},
   "source": [
    "- \\A: This matches if the characters defined are at the beginning of the string \"\\AIt\"\n",
    "- \\b: This matches if the characters defined are at the beginning or at the end of a word \"\\bain\" r\"ain\\b\"\n",
    "- \\B Returns a match where the specified characters are present, but NOT at the beginning (or at the end) of a word (the \"r\" in the beginning is making sure that the string is being treated as a \"raw string\") r\"\\Bain\" r\"ain\\B\"\n",
    "- \\d Returns a match where the string contains digits (numbers from 0-9) \"\\d\"\n",
    "- \\D Returns a match where the string DOES NOT contain digits \"\\D\"\n",
    "- \\s Returns a match where the string contains a white space character \"\\s\"\n",
    "- \\S Returns a match where the string DOES NOT contain a white space character \"\\S\"\n",
    "- \\w Returns a match where the string contains any word characters (characters from a to Z, digits from 0-9, and the underscore _ character) \"\\w\"\n",
    "- \\W Returns a match where the string DOES NOT contain any word characters \"\\W\"\n",
    "- \\Z Returns a match if the specified characters are at the end of the string"
   ]
  },
  {
   "cell_type": "code",
   "execution_count": 51,
   "id": "3277dbf2",
   "metadata": {},
   "outputs": [
    {
     "name": "stdout",
     "output_type": "stream",
     "text": [
      "['The', 'Avengers are earths mightiest heroes Avengers']\n",
      "['The', 'Avengers', 'are earths mightiest heroes Avengers']\n",
      "['The', 'Avengers', 'are', 'earths mightiest heroes Avengers']\n"
     ]
    }
   ],
   "source": [
    "x1 = re.split(\"\\s\", txt, maxsplit=1) # result in 2 ele\n",
    "print(x1)\n",
    "x2 = re.split(\"\\s\", txt, maxsplit=2) # result in 3 ele\n",
    "print(x2)\n",
    "x3 = re.split(\"\\s\", txt, maxsplit=3) # result in 4 ele\n",
    "print(x3)"
   ]
  },
  {
   "cell_type": "markdown",
   "id": "eab7abda",
   "metadata": {},
   "source": [
    "**Submethod** Same as replace method"
   ]
  },
  {
   "cell_type": "code",
   "execution_count": 52,
   "id": "8e2a02e7",
   "metadata": {},
   "outputs": [
    {
     "data": {
      "text/plain": [
       "'My9name9is9Ayush'"
      ]
     },
     "execution_count": 52,
     "metadata": {},
     "output_type": "execute_result"
    }
   ],
   "source": [
    "x = \"My name is Ayush\"\n",
    "re.sub(\"\\s\",\"9\",x)"
   ]
  },
  {
   "cell_type": "code",
   "execution_count": 54,
   "id": "9d2def9c",
   "metadata": {},
   "outputs": [
    {
     "name": "stdout",
     "output_type": "stream",
     "text": [
      "The9rain in Spain\n",
      "The9rain9in Spain\n",
      "The9rain9in9Spain\n"
     ]
    }
   ],
   "source": [
    "txt = \"The rain in Spain\"\n",
    "x1 = re.sub(\"\\s\", \"9\", txt, 1)\n",
    "print(x1)\n",
    "\n",
    "txt = \"The rain in Spain\"\n",
    "x2 = re.sub(\"\\s\", \"9\", txt, 2)\n",
    "print(x2)\n",
    "\n",
    "txt = \"The rain in Spain\"\n",
    "x3 = re.sub(\"\\s\", \"9\", txt, 3)\n",
    "print(x3)"
   ]
  },
  {
   "cell_type": "markdown",
   "id": "39c2fc2a",
   "metadata": {},
   "source": [
    "span tells from where it starts nad where it ends from starting of the string "
   ]
  },
  {
   "cell_type": "code",
   "execution_count": 75,
   "id": "70091be1",
   "metadata": {
    "scrolled": false
   },
   "outputs": [
    {
     "name": "stdout",
     "output_type": "stream",
     "text": [
      "<re.Match object; span=(4, 9), match='ayush'>\n",
      "(4, 9)\n"
     ]
    }
   ],
   "source": [
    "txt = \"The ayush rain in Spain aa\"\n",
    "x = re.search(\"ayush\", txt)\n",
    "print(x)\n",
    "\n",
    "x1 = x.span()\n",
    "print(x1)"
   ]
  },
  {
   "cell_type": "code",
   "execution_count": null,
   "id": "0fbf549d",
   "metadata": {},
   "outputs": [],
   "source": []
  }
 ],
 "metadata": {
  "kernelspec": {
   "display_name": "Python 3 (ipykernel)",
   "language": "python",
   "name": "python3"
  },
  "language_info": {
   "codemirror_mode": {
    "name": "ipython",
    "version": 3
   },
   "file_extension": ".py",
   "mimetype": "text/x-python",
   "name": "python",
   "nbconvert_exporter": "python",
   "pygments_lexer": "ipython3",
   "version": "3.11.4"
  }
 },
 "nbformat": 4,
 "nbformat_minor": 5
}
