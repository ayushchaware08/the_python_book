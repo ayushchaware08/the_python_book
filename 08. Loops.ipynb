{
 "cells": [
  {
   "cell_type": "markdown",
   "id": "d530df8f",
   "metadata": {},
   "source": [
    "## If Else"
   ]
  },
  {
   "cell_type": "code",
   "execution_count": 3,
   "id": "aef64600",
   "metadata": {},
   "outputs": [
    {
     "data": {
      "text/plain": [
       "False"
      ]
     },
     "execution_count": 3,
     "metadata": {},
     "output_type": "execute_result"
    }
   ],
   "source": [
    "x =2\n",
    "x == 1 # Checking the Equality"
   ]
  },
  {
   "cell_type": "code",
   "execution_count": 6,
   "id": "a810badd",
   "metadata": {},
   "outputs": [
    {
     "data": {
      "text/plain": [
       "3"
      ]
     },
     "execution_count": 6,
     "metadata": {},
     "output_type": "execute_result"
    }
   ],
   "source": [
    "if x == 2:\n",
    "    x = x + 1\n",
    "x"
   ]
  },
  {
   "cell_type": "code",
   "execution_count": 7,
   "id": "76c72316",
   "metadata": {},
   "outputs": [
    {
     "data": {
      "text/plain": [
       "4"
      ]
     },
     "execution_count": 7,
     "metadata": {},
     "output_type": "execute_result"
    }
   ],
   "source": [
    "x = 2\n",
    "if x==1:     #   contain argument \n",
    "    x=x+1\n",
    "elif x==2:   # contain argument \n",
    "    x=x*x\n",
    "else :       # does not contain argument \n",
    "    x= x-1\n",
    "x"
   ]
  },
  {
   "cell_type": "markdown",
   "id": "d7dba20a",
   "metadata": {},
   "source": [
    "#### elif ladder"
   ]
  },
  {
   "cell_type": "code",
   "execution_count": 11,
   "id": "036a6b2f",
   "metadata": {},
   "outputs": [
    {
     "data": {
      "text/plain": [
       "'If statement'"
      ]
     },
     "execution_count": 11,
     "metadata": {},
     "output_type": "execute_result"
    }
   ],
   "source": [
    "a = 4\n",
    "b = 3\n",
    "if a>b:\n",
    "    result = \"If statement\"\n",
    "elif a < b:\n",
    "    result = \"Elif 1\"\n",
    "elif a == b:\n",
    "    result = \"Elif 2\"\n",
    "elif a > (b+1):\n",
    "    result = \"Elif 3\"\n",
    "elif (a+1) < b:\n",
    "    result = \"Elif 4\"\n",
    "else:\n",
    "    result = \"Unkonown Result\"\n",
    "result"
   ]
  },
  {
   "cell_type": "markdown",
   "id": "6dd5ddeb",
   "metadata": {},
   "source": [
    "#### Nested If Else"
   ]
  },
  {
   "cell_type": "code",
   "execution_count": null,
   "id": "5dae48a8",
   "metadata": {},
   "outputs": [],
   "source": [
    "if a>b:\n",
    "    if (a+1)==b:\n",
    "        return = \"nested if 0\"\n",
    "    else:\n",
    "        return = \"else nested 0\"\n",
    "else:\n",
    "    if a == b:\n",
    "        return = \"nested if 1\"\n",
    "    else:\n",
    "        return = \"nested else 2\""
   ]
  },
  {
   "cell_type": "markdown",
   "id": "8478f715",
   "metadata": {},
   "source": [
    "Empty list append list in it"
   ]
  },
  {
   "cell_type": "code",
   "execution_count": 21,
   "id": "c34a83b5",
   "metadata": {
    "scrolled": true
   },
   "outputs": [
    {
     "data": {
      "text/plain": [
       "[['Tony', 'Stark', 48],\n",
       " ['Steve', 'Rodgers', 102],\n",
       " ['Stephen', 'Strange', 42],\n",
       " ['Natasha', 'Romanof', 36],\n",
       " ['Peter', 'Parker', 16]]"
      ]
     },
     "execution_count": 21,
     "metadata": {},
     "output_type": "execute_result"
    }
   ],
   "source": [
    "# METHOD 1\n",
    "people = []                       # Made a list\n",
    "person = [\"Tony\", \"Stark\",48]\n",
    "people.append(person)             #appending (adding) the lists \n",
    "person = [\"Steve\",\"Rodgers\",102]\n",
    "people.append(person)\n",
    "person = [\"Stephen\", \"Strange\",42]\n",
    "people.append(person)\n",
    "person = [\"Natasha\",\"Romanof\",36]\n",
    "people.append(person)\n",
    "person = [\"Peter\",\"Parker\",16]\n",
    "people.append(person)\n",
    "people"
   ]
  },
  {
   "cell_type": "markdown",
   "id": "619d6b6c",
   "metadata": {},
   "source": [
    "#### For Loop"
   ]
  },
  {
   "cell_type": "code",
   "execution_count": null,
   "id": "7b845985",
   "metadata": {},
   "outputs": [],
   "source": [
    "# METHOD 2\n",
    "ages=[]\n",
    "total_age = 0.0\n",
    "for p in people:\n",
    "    age = p[2]\n",
    "    total_age += age\n",
    "#    ages.append(age)\n",
    "total_age"
   ]
  },
  {
   "cell_type": "code",
   "execution_count": 22,
   "id": "9726ddbd",
   "metadata": {},
   "outputs": [
    {
     "data": {
      "text/plain": [
       "244"
      ]
     },
     "execution_count": 22,
     "metadata": {},
     "output_type": "execute_result"
    }
   ],
   "source": [
    "total_age = 0\n",
    "age = people[0][2]\n",
    "total_age += age\n",
    "age = people[1][2]\n",
    "total_age += age\n",
    "age = people[2][2]\n",
    "total_age += age\n",
    "age = people[3][2]\n",
    "total_age += age\n",
    "age = people[4][2]\n",
    "total_age += age\n",
    "total_age"
   ]
  },
  {
   "cell_type": "code",
   "execution_count": 23,
   "id": "97c9014b",
   "metadata": {},
   "outputs": [
    {
     "data": {
      "text/plain": [
       "48.8"
      ]
     },
     "execution_count": 23,
     "metadata": {},
     "output_type": "execute_result"
    }
   ],
   "source": [
    "average_age = total_age / len(people)\n",
    "average_age"
   ]
  },
  {
   "cell_type": "code",
   "execution_count": 24,
   "id": "0d9e9010",
   "metadata": {},
   "outputs": [
    {
     "data": {
      "text/plain": [
       "[2304, 10404, 1764, 1296, 256]"
      ]
     },
     "execution_count": 24,
     "metadata": {},
     "output_type": "execute_result"
    }
   ],
   "source": [
    "squared_ages = []\n",
    "for p in people:\n",
    "    squared_age = p[2] * p[2]\n",
    "    squared_ages.append(squared_age)\n",
    "squared_ages"
   ]
  },
  {
   "cell_type": "code",
   "execution_count": 25,
   "id": "b9cffb90",
   "metadata": {},
   "outputs": [
    {
     "data": {
      "text/plain": [
       "[2304, 10404, 1764, 1296, 256]"
      ]
     },
     "execution_count": 25,
     "metadata": {},
     "output_type": "execute_result"
    }
   ],
   "source": [
    "# we can write this in one line \n",
    "squared_ages = [p[2] * p[2] for p in people]\n",
    "squared_ages"
   ]
  },
  {
   "cell_type": "code",
   "execution_count": 26,
   "id": "385a0e0f",
   "metadata": {},
   "outputs": [
    {
     "data": {
      "text/plain": [
       "['first_name', 'last_name', 'age']"
      ]
     },
     "execution_count": 26,
     "metadata": {},
     "output_type": "execute_result"
    }
   ],
   "source": [
    "# Dictionary\n",
    "person = {\"first_name\":\"Steve\", \"last_name\":\"Rodgers\", \"age\":102}\n",
    "person_list = []\n",
    "for p in person:\n",
    "    person_list.append(p)\n",
    "person_list"
   ]
  },
  {
   "cell_type": "code",
   "execution_count": 27,
   "id": "51aafb8a",
   "metadata": {},
   "outputs": [
    {
     "data": {
      "text/plain": [
       "['Steve', 'Rodgers', 102]"
      ]
     },
     "execution_count": 27,
     "metadata": {},
     "output_type": "execute_result"
    }
   ],
   "source": [
    "person = {\"first_name\":\"Steve\", \"last_name\":\"Rodgers\", \"age\":102}\n",
    "person_list = []\n",
    "for p in person:\n",
    "    value = person[p]\n",
    "    person_list.append(value)\n",
    "person_list"
   ]
  },
  {
   "cell_type": "code",
   "execution_count": 28,
   "id": "3efa5409",
   "metadata": {},
   "outputs": [
    {
     "data": {
      "text/plain": [
       "['Steve', 'Rodgers', 102]"
      ]
     },
     "execution_count": 28,
     "metadata": {},
     "output_type": "execute_result"
    }
   ],
   "source": [
    "person = {\"first_name\":\"Steve\", \"last_name\":\"Rodgers\", \"age\":102}\n",
    "person_list = []\n",
    "for p in person:\n",
    "    value = person[p]\n",
    "    person_list.append(value)\n",
    "person_list"
   ]
  },
  {
   "cell_type": "markdown",
   "id": "ac634f69",
   "metadata": {},
   "source": [
    "#### While Loop"
   ]
  },
  {
   "cell_type": "code",
   "execution_count": 29,
   "id": "b0b16cbf",
   "metadata": {},
   "outputs": [
    {
     "data": {
      "text/plain": [
       "4"
      ]
     },
     "execution_count": 29,
     "metadata": {},
     "output_type": "execute_result"
    }
   ],
   "source": [
    "score =0\n",
    "while score < 4:\n",
    "    score +=1\n",
    "score"
   ]
  },
  {
   "cell_type": "code",
   "execution_count": null,
   "id": "68205d9f",
   "metadata": {},
   "outputs": [],
   "source": []
  }
 ],
 "metadata": {
  "kernelspec": {
   "display_name": "Python 3 (ipykernel)",
   "language": "python",
   "name": "python3"
  },
  "language_info": {
   "codemirror_mode": {
    "name": "ipython",
    "version": 3
   },
   "file_extension": ".py",
   "mimetype": "text/x-python",
   "name": "python",
   "nbconvert_exporter": "python",
   "pygments_lexer": "ipython3",
   "version": "3.11.4"
  }
 },
 "nbformat": 4,
 "nbformat_minor": 5
}
