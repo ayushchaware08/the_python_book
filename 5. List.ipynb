{
 "cells": [
  {
   "cell_type": "markdown",
   "id": "c89e0693",
   "metadata": {},
   "source": [
    "## 5. List\n",
    "x = [ ]\n",
    "can have str, int, float"
   ]
  },
  {
   "cell_type": "code",
   "execution_count": 47,
   "id": "41ee7344",
   "metadata": {
    "scrolled": false
   },
   "outputs": [
    {
     "name": "stdout",
     "output_type": "stream",
     "text": [
      "[1, 2, 3, 4, 5]\n",
      "['A', 'B', 'C', 'D', 'E']\n"
     ]
    },
    {
     "data": {
      "text/plain": [
       "[1, 2, 3, 4, 5, 'A', 'B', 'C', 'D', 'E']"
      ]
     },
     "execution_count": 47,
     "metadata": {},
     "output_type": "execute_result"
    }
   ],
   "source": [
    "# int List\n",
    "x = [1,2,3,4,5]\n",
    "print(x)\n",
    "\n",
    "# str list\n",
    "y = ['A','B','C','D','E']\n",
    "print(y)\n",
    "\n",
    "# Add\n",
    "x+y"
   ]
  },
  {
   "cell_type": "markdown",
   "id": "f5701170",
   "metadata": {},
   "source": [
    "it shows the mutability or changablity"
   ]
  },
  {
   "cell_type": "code",
   "execution_count": 1,
   "id": "01b39e13",
   "metadata": {},
   "outputs": [
    {
     "data": {
      "text/plain": [
       "['Ayush', 'sunni', 'Moghe', 'Mohit', 'harshal', 'rajat']"
      ]
     },
     "execution_count": 1,
     "metadata": {},
     "output_type": "execute_result"
    }
   ],
   "source": [
    "c = ['Ayush','sunni','Mohit','harshal','rajat']\n",
    "d = 'Moghe'\n",
    "a = ['Ayush','sunni',d,'Mohit','harshal','rajat']\n",
    "a"
   ]
  },
  {
   "cell_type": "markdown",
   "id": "df4bfc1f",
   "metadata": {},
   "source": [
    "#### Pop\n",
    "delete the desired element using index number"
   ]
  },
  {
   "cell_type": "code",
   "execution_count": 2,
   "id": "56681c5e",
   "metadata": {},
   "outputs": [
    {
     "name": "stdout",
     "output_type": "stream",
     "text": [
      "['Ayush', 'sunni', 'harshal', 'rajat']\n"
     ]
    }
   ],
   "source": [
    "# c.pop(indexing_of_ele)\n",
    "c.pop(2)\n",
    "\n",
    "print(c)"
   ]
  },
  {
   "cell_type": "code",
   "execution_count": 72,
   "id": "44ffc914",
   "metadata": {},
   "outputs": [
    {
     "data": {
      "text/plain": [
       "['Ayush', 'sunni', 'sunni', 'sunni', 'Mohit', 'harshal', 'rajat']"
      ]
     },
     "execution_count": 72,
     "metadata": {},
     "output_type": "execute_result"
    }
   ],
   "source": [
    "c = ['Ayush','sunni','sunni','sunni','sunni','Mohit','harshal','rajat']\n",
    "# c.remove('sunni')\n",
    "# c.pop(4)\n",
    "c"
   ]
  },
  {
   "cell_type": "markdown",
   "id": "06361572",
   "metadata": {},
   "source": [
    "#### Append \n",
    "always add ele to rightmost part"
   ]
  },
  {
   "cell_type": "code",
   "execution_count": 3,
   "id": "55f987c3",
   "metadata": {},
   "outputs": [
    {
     "name": "stdout",
     "output_type": "stream",
     "text": [
      "['Ayush', 'sunni', 'harshal', 'rajat', 'mohit']\n",
      "['Ayush', 'sunni', 'harshal', 'rajat', 'mohit', 2]\n"
     ]
    }
   ],
   "source": [
    "# c.append(str_int_flt)\n",
    "c.append('mohit')\n",
    "print(c)\n",
    "\n",
    "c.append(2)\n",
    "print(c)\n"
   ]
  },
  {
   "cell_type": "code",
   "execution_count": 57,
   "id": "59c0a556",
   "metadata": {},
   "outputs": [
    {
     "data": {
      "text/plain": [
       "['Ayush', 'sunni', 'harshal', 'mohit', 2]"
      ]
     },
     "execution_count": 57,
     "metadata": {},
     "output_type": "execute_result"
    }
   ],
   "source": [
    "# c.pop(indexing)\n",
    "c.pop(3)\n",
    "c"
   ]
  },
  {
   "cell_type": "markdown",
   "id": "5c78bedd",
   "metadata": {},
   "source": [
    "#### Remove\n",
    "remove specific ele in list using name of the str/int/float"
   ]
  },
  {
   "cell_type": "code",
   "execution_count": 65,
   "id": "d819a5b3",
   "metadata": {},
   "outputs": [
    {
     "data": {
      "text/plain": [
       "['Ayush', 'sunni', 'Mohit', 'rajat']"
      ]
     },
     "execution_count": 65,
     "metadata": {},
     "output_type": "execute_result"
    }
   ],
   "source": [
    "# c.remove(str)\n",
    "c = ['Ayush','sunni','Mohit','harshal','rajat']\n",
    "c.remove('harshal')\n",
    "c"
   ]
  },
  {
   "cell_type": "markdown",
   "id": "e5e42a40",
   "metadata": {},
   "source": [
    "#### Operation on Numeric List"
   ]
  },
  {
   "cell_type": "code",
   "execution_count": 77,
   "id": "7e226c7c",
   "metadata": {},
   "outputs": [
    {
     "data": {
      "text/plain": [
       "3"
      ]
     },
     "execution_count": 77,
     "metadata": {},
     "output_type": "execute_result"
    }
   ],
   "source": [
    "# Count the occurance\n",
    "\n",
    "# x.count(value_tobe_counted)\n",
    "x = [1,7,8,2,4,5,7,2,2,8]\n",
    "y = x.count(2)\n",
    "y"
   ]
  },
  {
   "cell_type": "code",
   "execution_count": 78,
   "id": "7b1d9736",
   "metadata": {},
   "outputs": [
    {
     "data": {
      "text/plain": [
       "[8, 2, 2, 7, 5, 4, 2, 8, 7, 1]"
      ]
     },
     "execution_count": 78,
     "metadata": {},
     "output_type": "execute_result"
    }
   ],
   "source": [
    "# Reverse\n",
    "x.reverse()\n",
    "x"
   ]
  },
  {
   "cell_type": "code",
   "execution_count": 13,
   "id": "c6767c67",
   "metadata": {},
   "outputs": [
    {
     "name": "stdout",
     "output_type": "stream",
     "text": [
      "Decending Order:  [8, 8, 7, 7, 5, 4, 2, 2, 2, 1]\n",
      "Ascending Order:  [1, 2, 2, 2, 4, 5, 7, 7, 8, 8]\n",
      "['Benign', 'daybreak', 'furnace', 'longing', 'rusted']\n"
     ]
    },
    {
     "data": {
      "text/plain": [
       "['A', 'b', 'x', 'y', 'z']"
      ]
     },
     "execution_count": 13,
     "metadata": {},
     "output_type": "execute_result"
    }
   ],
   "source": [
    "x = [1,7,8,2,4,5,7,2,2,8]\n",
    "# Sort : Acending to Decending\n",
    "x.sort(reverse=True)\n",
    "print(\"Decending Order: \",x)\n",
    "# Sort: Decending to Acending\n",
    "x.sort()\n",
    "print(\"Ascending Order: \",x)\n",
    "\n",
    "# --------------------------------\n",
    "\n",
    "# List with Same Datatype\n",
    "#  it uses lexicographic (dictionary or alphabetical) order. \n",
    "a = [\"longing\", \"rusted\", \"furnace\", \"daybreak\", \"Benign\"]\n",
    "a.sort()\n",
    "print(a)\n",
    "\n",
    "# List with diffrent DataType\n",
    "# a = [\"longing\", \"rusted\", \"furnace\", \"daybreak\", 17, \"Benign\", 9]\n",
    "# a.sort()\n",
    "# print(a)  # gives error\n",
    "\n",
    "# not supported between instances of 'int' and 'str'\n",
    "# y = ['ayush','mohit', 22,34]\n",
    "# # y.sort()\n",
    "# print(y) \n",
    "\n",
    "c = ['A','z','x','y','b']\n",
    "c.sort()\n",
    "c"
   ]
  },
  {
   "cell_type": "code",
   "execution_count": 90,
   "id": "818884e6",
   "metadata": {},
   "outputs": [
    {
     "name": "stdout",
     "output_type": "stream",
     "text": [
      "True\n",
      "False\n"
     ]
    },
    {
     "data": {
      "text/plain": [
       "True"
      ]
     },
     "execution_count": 90,
     "metadata": {},
     "output_type": "execute_result"
    }
   ],
   "source": [
    "# check wether element is present\n",
    "x = [1,7,8,2,4,5,7,2,2,8]\n",
    "print(1 in x)\n",
    "print(9 in x)\n",
    "\n",
    "c = ['A','z','x','y','b']\n",
    "'A' in c\n"
   ]
  },
  {
   "cell_type": "markdown",
   "id": "03cbecff",
   "metadata": {},
   "source": [
    "#### 1D Slicing\n",
    "\n",
    "X =  [ 'A', 'B', 'C', 'D']\n",
    "\n",
    "L to R: 0    1    2    3\n",
    "\n",
    "R to L:-4   -3   -2   -1\n",
    "\n",
    "#### **x[L:R]**"
   ]
  },
  {
   "cell_type": "code",
   "execution_count": 18,
   "id": "d613ebcb",
   "metadata": {},
   "outputs": [
    {
     "data": {
      "text/plain": [
       "[1, 8, 4, 7, 2]"
      ]
     },
     "execution_count": 18,
     "metadata": {},
     "output_type": "execute_result"
    }
   ],
   "source": [
    "x = [1,7,8,2,4,5,7,2,2,8]\n",
    "new_x = x[1:5] # indexing 1 till 3\n",
    "new_x"
   ]
  },
  {
   "cell_type": "code",
   "execution_count": 3,
   "id": "84719f10",
   "metadata": {
    "scrolled": true
   },
   "outputs": [
    {
     "data": {
      "text/plain": [
       "[8]"
      ]
     },
     "execution_count": 3,
     "metadata": {},
     "output_type": "execute_result"
    }
   ],
   "source": [
    "x[-1:] # i.e from last"
   ]
  },
  {
   "cell_type": "code",
   "execution_count": 4,
   "id": "4bae434f",
   "metadata": {},
   "outputs": [
    {
     "data": {
      "text/plain": [
       "[1, 7, 8, 2, 4, 5, 7, 2, 2]"
      ]
     },
     "execution_count": 4,
     "metadata": {},
     "output_type": "execute_result"
    }
   ],
   "source": [
    "x[:-1]"
   ]
  },
  {
   "cell_type": "code",
   "execution_count": 9,
   "id": "d66a23db",
   "metadata": {},
   "outputs": [
    {
     "data": {
      "text/plain": [
       "1"
      ]
     },
     "execution_count": 9,
     "metadata": {},
     "output_type": "execute_result"
    }
   ],
   "source": [
    "x[-len(x)]"
   ]
  },
  {
   "cell_type": "markdown",
   "id": "de3efc2d",
   "metadata": {},
   "source": [
    "**[starting_pt: ending_pt: inc_diff]**"
   ]
  },
  {
   "cell_type": "code",
   "execution_count": 94,
   "id": "2af25979",
   "metadata": {
    "scrolled": true
   },
   "outputs": [
    {
     "data": {
      "text/plain": [
       "['sunni', 'Mohit', 'harshal']"
      ]
     },
     "execution_count": 94,
     "metadata": {},
     "output_type": "execute_result"
    }
   ],
   "source": [
    "c = ['Ayush','sunni','Mohit','harshal','rajat']\n",
    "# [starting_pt: ending_pt: inc_diff]\n",
    "c[1:4:1]"
   ]
  },
  {
   "cell_type": "markdown",
   "id": "a00c36b1",
   "metadata": {},
   "source": [
    "Python 2 and Python 3 have slightly different behaviors regarding range(). However, the core functionality remains similar."
   ]
  },
  {
   "cell_type": "code",
   "execution_count": 19,
   "id": "66fc9313",
   "metadata": {},
   "outputs": [
    {
     "name": "stdout",
     "output_type": "stream",
     "text": [
      "range(0, 7)\n"
     ]
    }
   ],
   "source": [
    "x = range(7)\n",
    "print(x)"
   ]
  },
  {
   "cell_type": "code",
   "execution_count": 98,
   "id": "1e7a984b",
   "metadata": {
    "scrolled": true
   },
   "outputs": [
    {
     "data": {
      "text/plain": [
       "range(1, 7)"
      ]
     },
     "execution_count": 98,
     "metadata": {},
     "output_type": "execute_result"
    }
   ],
   "source": [
    "x = range(1,7)\n",
    "x\n",
    "# O/p = 1,2,3,4,5,6,7"
   ]
  },
  {
   "cell_type": "code",
   "execution_count": 29,
   "id": "28b708f5",
   "metadata": {},
   "outputs": [
    {
     "data": {
      "text/plain": [
       "[4, 5]"
      ]
     },
     "execution_count": 29,
     "metadata": {},
     "output_type": "execute_result"
    }
   ],
   "source": [
    "x=[0,1,2,3,4,5,6,7]\n",
    "x[4:6]"
   ]
  },
  {
   "cell_type": "code",
   "execution_count": 30,
   "id": "366bf05e",
   "metadata": {
    "scrolled": true
   },
   "outputs": [
    {
     "data": {
      "text/plain": [
       "range(1, 7, 2)"
      ]
     },
     "execution_count": 30,
     "metadata": {},
     "output_type": "execute_result"
    }
   ],
   "source": [
    "x = range(1,7,2)\n",
    "x\n",
    "# o/p = 1,3, 5, 7"
   ]
  },
  {
   "cell_type": "code",
   "execution_count": 32,
   "id": "2dc2bd47",
   "metadata": {
    "scrolled": true
   },
   "outputs": [
    {
     "name": "stdout",
     "output_type": "stream",
     "text": [
      "range(1, 8, 3)\n",
      "1\n",
      "3\n",
      "8\n"
     ]
    }
   ],
   "source": [
    "x = range(1,8,3)\n",
    "# [1,4,7] in Py 2 version (py 3 me range(1,8,3))\n",
    "print(x) \n",
    "# where the range is stopped (Starting : stop : interval)\n",
    "print(x.start) # starting\n",
    "print(x.step) # Interval diffrence\n",
    "print(x.stop) # Stop "
   ]
  },
  {
   "cell_type": "code",
   "execution_count": 22,
   "id": "d9294197",
   "metadata": {},
   "outputs": [
    {
     "name": "stdout",
     "output_type": "stream",
     "text": [
      "5\n"
     ]
    }
   ],
   "source": [
    "my_slice = slice(1, 5, 2)\n",
    "print(my_slice.stop)"
   ]
  },
  {
   "cell_type": "code",
   "execution_count": 111,
   "id": "17b2a600",
   "metadata": {},
   "outputs": [
    {
     "data": {
      "text/plain": [
       "2"
      ]
     },
     "execution_count": 111,
     "metadata": {},
     "output_type": "execute_result"
    }
   ],
   "source": [
    "# 1 4 7 index\n",
    "x.index(7)"
   ]
  },
  {
   "cell_type": "code",
   "execution_count": 113,
   "id": "51c37580",
   "metadata": {},
   "outputs": [
    {
     "data": {
      "text/plain": [
       "1"
      ]
     },
     "execution_count": 113,
     "metadata": {},
     "output_type": "execute_result"
    }
   ],
   "source": [
    "x.count(4)"
   ]
  }
 ],
 "metadata": {
  "kernelspec": {
   "display_name": "Python 3 (ipykernel)",
   "language": "python",
   "name": "python3"
  },
  "language_info": {
   "codemirror_mode": {
    "name": "ipython",
    "version": 3
   },
   "file_extension": ".py",
   "mimetype": "text/x-python",
   "name": "python",
   "nbconvert_exporter": "python",
   "pygments_lexer": "ipython3",
   "version": "3.11.4"
  }
 },
 "nbformat": 4,
 "nbformat_minor": 5
}
